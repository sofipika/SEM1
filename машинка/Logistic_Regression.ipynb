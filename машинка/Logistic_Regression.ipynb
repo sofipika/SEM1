{
 "cells": [
  {
   "cell_type": "code",
   "execution_count": 2,
   "metadata": {
    "id": "k5ZQCpylWmQY"
   },
   "outputs": [],
   "source": [
    "import numpy as np\n",
    "import matplotlib.pylab as plt\n",
    "import pandas as pd\n",
    "from sklearn.model_selection import train_test_split\n",
    "from sklearn.preprocessing import OneHotEncoder\n",
    "from scipy.special import softmax\n",
    "from sklearn.datasets import load_wine\n",
    "from sklearn.linear_model import LogisticRegression\n",
    "from sklearn.metrics import accuracy_score\n",
    "from sklearn.preprocessing import StandardScaler"
   ]
  },
  {
   "cell_type": "code",
   "execution_count": 3,
   "metadata": {
    "id": "ghmxIXQwWmQd"
   },
   "outputs": [],
   "source": [
    "X = load_wine().data\n",
    "Y = load_wine().target\n",
    "ss = StandardScaler()\n",
    "X = ss.fit_transform(X)\n",
    "X_train, X_test, y_train, y_test = train_test_split(X, Y, test_size=0.4, stratify=Y, random_state=42)"
   ]
  },
  {
   "cell_type": "code",
   "execution_count": 4,
   "metadata": {
    "colab": {
     "base_uri": "https://localhost:8080/"
    },
    "executionInfo": {
     "elapsed": 684,
     "status": "ok",
     "timestamp": 1637395242478,
     "user": {
      "displayName": "Олег Дмитриевич Сомов",
      "photoUrl": "https://lh3.googleusercontent.com/a/default-user=s64",
      "userId": "03877505905935419968"
     },
     "user_tz": -180
    },
    "id": "1Nr3gwfeWmQe",
    "outputId": "70e7ae07-c3ee-4a31-980d-dcb3af21a30e"
   },
   "outputs": [
    {
     "name": "stdout",
     "output_type": "stream",
     "text": [
      "Значение accuracy на train-е библиотеки sklearn: 0.9722222222222222\n"
     ]
    }
   ],
   "source": [
    "logreg = LogisticRegression(penalty='none')\n",
    "logreg.fit(X_train, y_train)\n",
    "y_pred = logreg.predict(X_test)\n",
    "print('Значение accuracy на train-е библиотеки sklearn: {}'.format(accuracy_score(y_test, y_pred)))\n"
   ]
  },
  {
   "cell_type": "code",
   "execution_count": 4,
   "metadata": {
    "colab": {
     "base_uri": "https://localhost:8080/"
    },
    "executionInfo": {
     "elapsed": 655,
     "status": "ok",
     "timestamp": 1637395258384,
     "user": {
      "displayName": "Олег Дмитриевич Сомов",
      "photoUrl": "https://lh3.googleusercontent.com/a/default-user=s64",
      "userId": "03877505905935419968"
     },
     "user_tz": -180
    },
    "id": "v2T5p_SkWmQf",
    "outputId": "323a6c0a-c1a0-4c62-a705-b9fd6436ec95"
   },
   "outputs": [
    {
     "name": "stdout",
     "output_type": "stream",
     "text": [
      "Значение accuracy на train-е библиотеки sklearn: 0.9861111111111112\n"
     ]
    }
   ],
   "source": [
    "logreg = LogisticRegression(penalty='l2', C=0.1)\n",
    "logreg.fit(X_train, y_train)\n",
    "y_pred = logreg.predict(X_test)\n",
    "print('Значение accuracy на train-е библиотеки sklearn: {}'.format(accuracy_score(y_test, y_pred)))\n"
   ]
  },
  {
   "cell_type": "code",
   "execution_count": null,
   "metadata": {
    "id": "1spNQa7kWmQi"
   },
   "outputs": [],
   "source": []
  },
  {
   "cell_type": "code",
   "execution_count": null,
   "metadata": {},
   "outputs": [],
   "source": []
  }
 ],
 "metadata": {
  "colab": {
   "name": "Logistic_Regression.ipynb",
   "provenance": []
  },
  "kernelspec": {
   "display_name": "Python 3",
   "language": "python",
   "name": "python3"
  },
  "language_info": {
   "codemirror_mode": {
    "name": "ipython",
    "version": 3
   },
   "file_extension": ".py",
   "mimetype": "text/x-python",
   "name": "python",
   "nbconvert_exporter": "python",
   "pygments_lexer": "ipython3",
   "version": "3.8.5"
  }
 },
 "nbformat": 4,
 "nbformat_minor": 5
}
