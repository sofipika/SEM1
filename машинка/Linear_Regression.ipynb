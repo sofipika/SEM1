{
 "cells": [
  {
   "cell_type": "code",
   "execution_count": 1,
   "metadata": {
    "colab": {
     "base_uri": "https://localhost:8080/"
    },
    "id": "pA3kSBVoGDbJ",
    "outputId": "2ec2ccf0-a3db-4eba-ad9b-1b9364563105"
   },
   "outputs": [
    {
     "name": "stdout",
     "output_type": "stream",
     "text": [
      "Populating the interactive namespace from numpy and matplotlib\n"
     ]
    },
    {
     "name": "stderr",
     "output_type": "stream",
     "text": [
      "/opt/anaconda3/lib/python3.8/site-packages/IPython/core/magics/pylab.py:159: UserWarning: pylab import has clobbered these variables: ['plt']\n",
      "`%matplotlib` prevents importing * from pylab and numpy\n",
      "  warn(\"pylab import has clobbered these variables: %s\"  % clobbered +\n"
     ]
    }
   ],
   "source": [
    "import numpy as np\n",
    "import matplotlib.pylab as plt\n",
    "import pandas as pd\n",
    "from sklearn.model_selection import train_test_split\n",
    "%pylab inline\n",
    "\n",
    "plt.rcParams[\"figure.figsize\"] = (10,7)"
   ]
  },
  {
   "cell_type": "code",
   "execution_count": 2,
   "metadata": {
    "id": "cnYSSqs4abZ9"
   },
   "outputs": [],
   "source": [
    "class LinearRegresion:\n",
    "    def __init__(self, lr=0.01):\n",
    "        self.lr = lr \n",
    "        self.w = 0\n",
    "    \n",
    "    def fit(self, X, y, epochs=10):\n",
    "        self.w = np.zeros(X.shape[1])\n",
    "        n = X.shape[0]\n",
    "        \n",
    "        for ep in range(epochs):    \n",
    "            grad = 2 / n * X.T @ (np.dot(X, self.w) - y)\n",
    "            self.w = self.w - self.lr * grad\n",
    "    \n",
    "    def predict(self, X):\n",
    "        return X @ self.w"
   ]
  },
  {
   "cell_type": "code",
   "execution_count": 3,
   "metadata": {
    "colab": {
     "base_uri": "https://localhost:8080/",
     "height": 464
    },
    "id": "9jLHX0xGabiA",
    "outputId": "e5a8a9be-6fed-49fb-95dd-bb06ade1f213"
   },
   "outputs": [
    {
     "data": {
      "text/plain": [
       "<matplotlib.legend.Legend at 0x7fe3bfe95fa0>"
      ]
     },
     "execution_count": 3,
     "metadata": {},
     "output_type": "execute_result"
    },
    {
     "data": {
      "image/png": "[encoded data removed]",
      "text/plain": [
       "<Figure size 720x504 with 1 Axes>"
      ]
     },
     "metadata": {
      "needs_background": "light"
     },
     "output_type": "display_data"
    }
   ],
   "source": [
    "X = np.linspace(-3, 3, 100)\n",
    "y = (2 * X + np.random.normal(0, 1, size=X.shape[0])).flatten()\n",
    "\n",
    "linreg = LinearRegresion()\n",
    "linreg.fit(X[:, None], y, 50)\n",
    "\n",
    "plt.scatter(X.flatten(), y, label='initial function', c = 'g',linewidths=5, alpha=0.5)\n",
    "plt.plot(X.flatten(), X[:, None] @ linreg.w, 'r-', label='predicted function')\n",
    "plt.legend()"
   ]
  },
  {
   "cell_type": "code",
   "execution_count": 4,
   "metadata": {
    "colab": {
     "base_uri": "https://localhost:8080/"
    },
    "id": "-7DtD8Q1GDbW",
    "outputId": "3200585d-1a79-4b1a-b2cd-8b13735e94e8"
   },
   "outputs": [
    {
     "name": "stdout",
     "output_type": "stream",
     "text": [
      "/bin/bash: wget: command not found\n",
      "/bin/bash: wget: command not found\n"
     ]
    }
   ],
   "source": [
    "#get data\n",
    "!wget https://raw.githubusercontent.com/Data-Science-FMI/ml-from-scratch-2019/master/data/house_prices_train.csv\n",
    "!wget https://raw.githubusercontent.com/Data-Science-FMI/ml-from-scratch-2019/master/data/house_prices_test.csv"
   ]
  },
  {
   "cell_type": "code",
   "execution_count": 5,
   "metadata": {
    "colab": {
     "base_uri": "https://localhost:8080/",
     "height": 252
    },
    "id": "B-PTmi5FGDbX",
    "outputId": "1b76e0b4-46d6-4c49-e563-dd120013a000"
   },
   "outputs": [
    {
     "data": {
      "text/html": [
       "<div>\n",
       "<style scoped>\n",
       "    .dataframe tbody tr th:only-of-type {\n",
       "        vertical-align: middle;\n",
       "    }\n",
       "\n",
       "    .dataframe tbody tr th {\n",
       "        vertical-align: top;\n",
       "    }\n",
       "\n",
       "    .dataframe thead th {\n",
       "        text-align: right;\n",
       "    }\n",
       "</style>\n",
       "<table border=\"1\" class=\"dataframe\">\n",
       "  <thead>\n",
       "    <tr style=\"text-align: right;\">\n",
       "      <th></th>\n",
       "      <th>Id</th>\n",
       "      <th>MSSubClass</th>\n",
       "      <th>MSZoning</th>\n",
       "      <th>LotFrontage</th>\n",
       "      <th>LotArea</th>\n",
       "      <th>Street</th>\n",
       "      <th>Alley</th>\n",
       "      <th>LotShape</th>\n",
       "      <th>LandContour</th>\n",
       "      <th>Utilities</th>\n",
       "      <th>...</th>\n",
       "      <th>PoolArea</th>\n",
       "      <th>PoolQC</th>\n",
       "      <th>Fence</th>\n",
       "      <th>MiscFeature</th>\n",
       "      <th>MiscVal</th>\n",
       "      <th>MoSold</th>\n",
       "      <th>YrSold</th>\n",
       "      <th>SaleType</th>\n",
       "      <th>SaleCondition</th>\n",
       "      <th>SalePrice</th>\n",
       "    </tr>\n",
       "  </thead>\n",
       "  <tbody>\n",
       "    <tr>\n",
       "      <th>0</th>\n",
       "      <td>1</td>\n",
       "      <td>60</td>\n",
       "      <td>RL</td>\n",
       "      <td>65.0</td>\n",
       "      <td>8450</td>\n",
       "      <td>Pave</td>\n",
       "      <td>NaN</td>\n",
       "      <td>Reg</td>\n",
       "      <td>Lvl</td>\n",
       "      <td>AllPub</td>\n",
       "      <td>...</td>\n",
       "      <td>0</td>\n",
       "      <td>NaN</td>\n",
       "      <td>NaN</td>\n",
       "      <td>NaN</td>\n",
       "      <td>0</td>\n",
       "      <td>2</td>\n",
       "      <td>2008</td>\n",
       "      <td>WD</td>\n",
       "      <td>Normal</td>\n",
       "      <td>208500</td>\n",
       "    </tr>\n",
       "    <tr>\n",
       "      <th>1</th>\n",
       "      <td>2</td>\n",
       "      <td>20</td>\n",
       "      <td>RL</td>\n",
       "      <td>80.0</td>\n",
       "      <td>9600</td>\n",
       "      <td>Pave</td>\n",
       "      <td>NaN</td>\n",
       "      <td>Reg</td>\n",
       "      <td>Lvl</td>\n",
       "      <td>AllPub</td>\n",
       "      <td>...</td>\n",
       "      <td>0</td>\n",
       "      <td>NaN</td>\n",
       "      <td>NaN</td>\n",
       "      <td>NaN</td>\n",
       "      <td>0</td>\n",
       "      <td>5</td>\n",
       "      <td>2007</td>\n",
       "      <td>WD</td>\n",
       "      <td>Normal</td>\n",
       "      <td>181500</td>\n",
       "    </tr>\n",
       "    <tr>\n",
       "      <th>2</th>\n",
       "      <td>3</td>\n",
       "      <td>60</td>\n",
       "      <td>RL</td>\n",
       "      <td>68.0</td>\n",
       "      <td>11250</td>\n",
       "      <td>Pave</td>\n",
       "      <td>NaN</td>\n",
       "      <td>IR1</td>\n",
       "      <td>Lvl</td>\n",
       "      <td>AllPub</td>\n",
       "      <td>...</td>\n",
       "      <td>0</td>\n",
       "      <td>NaN</td>\n",
       "      <td>NaN</td>\n",
       "      <td>NaN</td>\n",
       "      <td>0</td>\n",
       "      <td>9</td>\n",
       "      <td>2008</td>\n",
       "      <td>WD</td>\n",
       "      <td>Normal</td>\n",
       "      <td>223500</td>\n",
       "    </tr>\n",
       "    <tr>\n",
       "      <th>3</th>\n",
       "      <td>4</td>\n",
       "      <td>70</td>\n",
       "      <td>RL</td>\n",
       "      <td>60.0</td>\n",
       "      <td>9550</td>\n",
       "      <td>Pave</td>\n",
       "      <td>NaN</td>\n",
       "      <td>IR1</td>\n",
       "      <td>Lvl</td>\n",
       "      <td>AllPub</td>\n",
       "      <td>...</td>\n",
       "      <td>0</td>\n",
       "      <td>NaN</td>\n",
       "      <td>NaN</td>\n",
       "      <td>NaN</td>\n",
       "      <td>0</td>\n",
       "      <td>2</td>\n",
       "      <td>2006</td>\n",
       "      <td>WD</td>\n",
       "      <td>Abnorml</td>\n",
       "      <td>140000</td>\n",
       "    </tr>\n",
       "    <tr>\n",
       "      <th>4</th>\n",
       "      <td>5</td>\n",
       "      <td>60</td>\n",
       "      <td>RL</td>\n",
       "      <td>84.0</td>\n",
       "      <td>14260</td>\n",
       "      <td>Pave</td>\n",
       "      <td>NaN</td>\n",
       "      <td>IR1</td>\n",
       "      <td>Lvl</td>\n",
       "      <td>AllPub</td>\n",
       "      <td>...</td>\n",
       "      <td>0</td>\n",
       "      <td>NaN</td>\n",
       "      <td>NaN</td>\n",
       "      <td>NaN</td>\n",
       "      <td>0</td>\n",
       "      <td>12</td>\n",
       "      <td>2008</td>\n",
       "      <td>WD</td>\n",
       "      <td>Normal</td>\n",
       "      <td>250000</td>\n",
       "    </tr>\n",
       "    <tr>\n",
       "      <th>...</th>\n",
       "      <td>...</td>\n",
       "      <td>...</td>\n",
       "      <td>...</td>\n",
       "      <td>...</td>\n",
       "      <td>...</td>\n",
       "      <td>...</td>\n",
       "      <td>...</td>\n",
       "      <td>...</td>\n",
       "      <td>...</td>\n",
       "      <td>...</td>\n",
       "      <td>...</td>\n",
       "      <td>...</td>\n",
       "      <td>...</td>\n",
       "      <td>...</td>\n",
       "      <td>...</td>\n",
       "      <td>...</td>\n",
       "      <td>...</td>\n",
       "      <td>...</td>\n",
       "      <td>...</td>\n",
       "      <td>...</td>\n",
       "      <td>...</td>\n",
       "    </tr>\n",
       "    <tr>\n",
       "      <th>95</th>\n",
       "      <td>96</td>\n",
       "      <td>60</td>\n",
       "      <td>RL</td>\n",
       "      <td>NaN</td>\n",
       "      <td>9765</td>\n",
       "      <td>Pave</td>\n",
       "      <td>NaN</td>\n",
       "      <td>IR2</td>\n",
       "      <td>Lvl</td>\n",
       "      <td>AllPub</td>\n",
       "      <td>...</td>\n",
       "      <td>0</td>\n",
       "      <td>NaN</td>\n",
       "      <td>NaN</td>\n",
       "      <td>Shed</td>\n",
       "      <td>480</td>\n",
       "      <td>4</td>\n",
       "      <td>2009</td>\n",
       "      <td>WD</td>\n",
       "      <td>Normal</td>\n",
       "      <td>185000</td>\n",
       "    </tr>\n",
       "    <tr>\n",
       "      <th>96</th>\n",
       "      <td>97</td>\n",
       "      <td>20</td>\n",
       "      <td>RL</td>\n",
       "      <td>78.0</td>\n",
       "      <td>10264</td>\n",
       "      <td>Pave</td>\n",
       "      <td>NaN</td>\n",
       "      <td>IR1</td>\n",
       "      <td>Lvl</td>\n",
       "      <td>AllPub</td>\n",
       "      <td>...</td>\n",
       "      <td>0</td>\n",
       "      <td>NaN</td>\n",
       "      <td>NaN</td>\n",
       "      <td>NaN</td>\n",
       "      <td>0</td>\n",
       "      <td>8</td>\n",
       "      <td>2006</td>\n",
       "      <td>WD</td>\n",
       "      <td>Normal</td>\n",
       "      <td>214000</td>\n",
       "    </tr>\n",
       "    <tr>\n",
       "      <th>97</th>\n",
       "      <td>98</td>\n",
       "      <td>20</td>\n",
       "      <td>RL</td>\n",
       "      <td>73.0</td>\n",
       "      <td>10921</td>\n",
       "      <td>Pave</td>\n",
       "      <td>NaN</td>\n",
       "      <td>Reg</td>\n",
       "      <td>HLS</td>\n",
       "      <td>AllPub</td>\n",
       "      <td>...</td>\n",
       "      <td>0</td>\n",
       "      <td>NaN</td>\n",
       "      <td>NaN</td>\n",
       "      <td>NaN</td>\n",
       "      <td>0</td>\n",
       "      <td>5</td>\n",
       "      <td>2007</td>\n",
       "      <td>WD</td>\n",
       "      <td>Normal</td>\n",
       "      <td>94750</td>\n",
       "    </tr>\n",
       "    <tr>\n",
       "      <th>98</th>\n",
       "      <td>99</td>\n",
       "      <td>30</td>\n",
       "      <td>RL</td>\n",
       "      <td>85.0</td>\n",
       "      <td>10625</td>\n",
       "      <td>Pave</td>\n",
       "      <td>NaN</td>\n",
       "      <td>Reg</td>\n",
       "      <td>Lvl</td>\n",
       "      <td>AllPub</td>\n",
       "      <td>...</td>\n",
       "      <td>0</td>\n",
       "      <td>NaN</td>\n",
       "      <td>NaN</td>\n",
       "      <td>Shed</td>\n",
       "      <td>400</td>\n",
       "      <td>5</td>\n",
       "      <td>2010</td>\n",
       "      <td>COD</td>\n",
       "      <td>Abnorml</td>\n",
       "      <td>83000</td>\n",
       "    </tr>\n",
       "    <tr>\n",
       "      <th>99</th>\n",
       "      <td>100</td>\n",
       "      <td>20</td>\n",
       "      <td>RL</td>\n",
       "      <td>77.0</td>\n",
       "      <td>9320</td>\n",
       "      <td>Pave</td>\n",
       "      <td>NaN</td>\n",
       "      <td>IR1</td>\n",
       "      <td>Lvl</td>\n",
       "      <td>AllPub</td>\n",
       "      <td>...</td>\n",
       "      <td>0</td>\n",
       "      <td>NaN</td>\n",
       "      <td>NaN</td>\n",
       "      <td>Shed</td>\n",
       "      <td>400</td>\n",
       "      <td>1</td>\n",
       "      <td>2010</td>\n",
       "      <td>WD</td>\n",
       "      <td>Normal</td>\n",
       "      <td>128950</td>\n",
       "    </tr>\n",
       "  </tbody>\n",
       "</table>\n",
       "<p>100 rows × 81 columns</p>\n",
       "</div>"
      ],
      "text/plain": [
       "     Id  MSSubClass MSZoning  LotFrontage  LotArea Street Alley LotShape  \\\n",
       "0     1          60       RL         65.0     8450   Pave   NaN      Reg   \n",
       "1     2          20       RL         80.0     9600   Pave   NaN      Reg   \n",
       "2     3          60       RL         68.0    11250   Pave   NaN      IR1   \n",
       "3     4          70       RL         60.0     9550   Pave   NaN      IR1   \n",
       "4     5          60       RL         84.0    14260   Pave   NaN      IR1   \n",
       "..  ...         ...      ...          ...      ...    ...   ...      ...   \n",
       "95   96          60       RL          NaN     9765   Pave   NaN      IR2   \n",
       "96   97          20       RL         78.0    10264   Pave   NaN      IR1   \n",
       "97   98          20       RL         73.0    10921   Pave   NaN      Reg   \n",
       "98   99          30       RL         85.0    10625   Pave   NaN      Reg   \n",
       "99  100          20       RL         77.0     9320   Pave   NaN      IR1   \n",
       "\n",
       "   LandContour Utilities  ... PoolArea PoolQC Fence MiscFeature MiscVal  \\\n",
       "0          Lvl    AllPub  ...        0    NaN   NaN         NaN       0   \n",
       "1          Lvl    AllPub  ...        0    NaN   NaN         NaN       0   \n",
       "2          Lvl    AllPub  ...        0    NaN   NaN         NaN       0   \n",
       "3          Lvl    AllPub  ...        0    NaN   NaN         NaN       0   \n",
       "4          Lvl    AllPub  ...        0    NaN   NaN         NaN       0   \n",
       "..         ...       ...  ...      ...    ...   ...         ...     ...   \n",
       "95         Lvl    AllPub  ...        0    NaN   NaN        Shed     480   \n",
       "96         Lvl    AllPub  ...        0    NaN   NaN         NaN       0   \n",
       "97         HLS    AllPub  ...        0    NaN   NaN         NaN       0   \n",
       "98         Lvl    AllPub  ...        0    NaN   NaN        Shed     400   \n",
       "99         Lvl    AllPub  ...        0    NaN   NaN        Shed     400   \n",
       "\n",
       "   MoSold YrSold  SaleType  SaleCondition  SalePrice  \n",
       "0       2   2008        WD         Normal     208500  \n",
       "1       5   2007        WD         Normal     181500  \n",
       "2       9   2008        WD         Normal     223500  \n",
       "3       2   2006        WD        Abnorml     140000  \n",
       "4      12   2008        WD         Normal     250000  \n",
       "..    ...    ...       ...            ...        ...  \n",
       "95      4   2009        WD         Normal     185000  \n",
       "96      8   2006        WD         Normal     214000  \n",
       "97      5   2007        WD         Normal      94750  \n",
       "98      5   2010       COD        Abnorml      83000  \n",
       "99      1   2010        WD         Normal     128950  \n",
       "\n",
       "[100 rows x 81 columns]"
      ]
     },
     "execution_count": 5,
     "metadata": {},
     "output_type": "execute_result"
    }
   ],
   "source": [
    "# выгружаю с локального файла, так как предварительно wget не установила\n",
    "df = pd.read_csv('house_prices_train.csv')\n",
    "df.head(100)"
   ]
  },
  {
   "cell_type": "code",
   "execution_count": 6,
   "metadata": {
    "id": "QJfovz75FKNN"
   },
   "outputs": [],
   "source": [
    "num_features = ['MSSubClass', 'LotFrontage', 'LotArea', 'OverallQual', \n",
    "                'OverallCond', 'YearBuilt', 'YearRemodAdd', 'MasVnrArea', \n",
    "                '1stFlrSF','2ndFlrSF', 'LowQualFinSF', 'GrLivArea', 'BsmtFullBath', \n",
    "                'BsmtHalfBath', 'FullBath', 'HalfBath', 'BedroomAbvGr', \n",
    "                'KitchenAbvGr', 'TotRmsAbvGrd', 'Fireplaces', 'GarageYrBlt', \n",
    "                'GarageCars', 'GarageArea', 'WoodDeckSF','OpenPorchSF', \n",
    "                'EnclosedPorch', '3SsnPorch', 'ScreenPorch', 'PoolArea', \n",
    "                'MiscVal', 'MoSold', 'YrSold']\n",
    "\n",
    "target = 'SalePrice'\n",
    "\n",
    "df['LotFrontage'] = df['LotFrontage'].fillna(df['LotFrontage'].mean())\n",
    "df['MasVnrArea'] = df['MasVnrArea'].fillna(df['MasVnrArea'].mean())\n",
    "df['GarageYrBlt'] = df['GarageYrBlt'].fillna(df['GarageYrBlt'].mean())"
   ]
  },
  {
   "cell_type": "code",
   "execution_count": 7,
   "metadata": {},
   "outputs": [],
   "source": [
    "from sklearn.preprocessing import StandardScaler\n",
    "scaler = StandardScaler()\n",
    "X = scaler.fit_transform(df[num_features])\n",
    "y = df[target].values"
   ]
  },
  {
   "cell_type": "code",
   "execution_count": 8,
   "metadata": {
    "id": "8gyw7J6iGDbX"
   },
   "outputs": [],
   "source": [
    "X_train, X_test, y_train, y_test = train_test_split(np.hstack((X, np.ones((X.shape[0], 1)))), y, test_size=0.2, random_state=142)"
   ]
  },
  {
   "cell_type": "code",
   "execution_count": 9,
   "metadata": {},
   "outputs": [
    {
     "data": {
      "text/plain": [
       "array([[-0.87256276,  0.36109505, -0.12024921, ..., -1.22911075,\n",
       "        -0.61443862,  1.        ],\n",
       "       [ 3.14767255, -0.09311018,  0.03639783, ...,  0.620891  ,\n",
       "         0.13877749,  1.        ],\n",
       "       [ 1.49228154, -1.22862327, -0.73511137, ..., -0.48911005,\n",
       "         0.13877749,  1.        ],\n",
       "       ...,\n",
       "       [ 3.14767255,  1.36034657,  2.4186755 , ..., -1.96911145,\n",
       "        -1.36765473,  1.        ],\n",
       "       [-0.87256276, -0.68357699, -0.22718611, ...,  0.620891  ,\n",
       "         0.13877749,  1.        ],\n",
       "       [-0.87256276,  3.17716752,  0.86403136, ..., -0.1191097 ,\n",
       "         1.64520971,  1.        ]])"
      ]
     },
     "execution_count": 9,
     "metadata": {},
     "output_type": "execute_result"
    }
   ],
   "source": [
    "X_train"
   ]
  },
  {
   "cell_type": "code",
   "execution_count": 10,
   "metadata": {
    "colab": {
     "base_uri": "https://localhost:8080/"
    },
    "id": "HnrVoYIGGDbY",
    "outputId": "f4ee373d-e9da-4872-c26a-3dd4aa63f8bb"
   },
   "outputs": [
    {
     "data": {
      "text/plain": [
       "(1460, 81)"
      ]
     },
     "execution_count": 10,
     "metadata": {},
     "output_type": "execute_result"
    }
   ],
   "source": [
    "df.shape"
   ]
  },
  {
   "cell_type": "code",
   "execution_count": 11,
   "metadata": {},
   "outputs": [],
   "source": [
    "def rmse(y_true, y_preds):\n",
    "    n = len(y_true)\n",
    "    return np.sqrt(np.sum((y_true - y_preds) ** 2) / n)"
   ]
  },
  {
   "cell_type": "code",
   "execution_count": 12,
   "metadata": {
    "id": "NVBF-qBsGDbZ"
   },
   "outputs": [],
   "source": [
    "from scipy.stats import ncf, f\n",
    "\n",
    "def calculate_significance(y_true, y_preds, coefs_num):\n",
    "    \n",
    "    ss_reg = ((y_true - y_preds) ** 2).sum(axis=0)\n",
    "    ss_mean = ((y_true - np.average(y_true, axis=0)) ** 2).sum(axis=0)\n",
    "    r_squared = (ss_mean - ss_reg) / ss_mean\n",
    "    adj_r_squared = 1 - (len(y_true) - 1)/(len(y_true)- coefs_num - 1)*(1-r_squared)\n",
    "\n",
    "    numerator = (ss_mean - ss_reg)/(coefs_num + 1 - 1)\n",
    "    denumerator = ss_mean/(len(y_true) - coefs_num - 1)\n",
    "    F = numerator / denumerator\n",
    "\n",
    "    df1 = (coefs_num + 1 - 1)\n",
    "    df2 = (len(y_true) - coefs_num - 1)\n",
    "    p_value = 1 - f.cdf(F, df1, df2)\n",
    "\n",
    "    return {'p-value': p_value, 'F stat': F, 'r_squared': r_squared, 'adj_r_squared': adj_r_squared}"
   ]
  },
  {
   "cell_type": "code",
   "execution_count": 24,
   "metadata": {
    "colab": {
     "base_uri": "https://localhost:8080/"
    },
    "id": "Sox3hj1CGDbZ",
    "outputId": "e197a80a-dd2c-4683-c018-f0cc7df3d5a5"
   },
   "outputs": [],
   "source": [
    "results = dict()\n",
    "for i, num_feature in enumerate(num_features):\n",
    "    lin_reg = LinearRegresion()\n",
    "    lin_reg.fit(X_train[:, [i, -1]], y_train, epochs=50)\n",
    "    pred = lin_reg.predict(X_train[:, [i, -1]])\n",
    "    results[num_feature] = calculate_significance(y_train, pred, lin_reg.w.shape[0])\n"
   ]
  },
  {
   "cell_type": "code",
   "execution_count": 25,
   "metadata": {},
   "outputs": [
    {
     "name": "stdout",
     "output_type": "stream",
     "text": [
      "['YrSold', 'MoSold', 'MiscVal', 'PoolArea', 'ScreenPorch']\n",
      "['OverallQual', 'GrLivArea', 'GarageCars', 'GarageArea', '1stFlrSF']\n",
      "['OverallQual', 'GrLivArea', 'GarageCars', 'GarageArea', '1stFlrSF']\n",
      "['OverallQual', 'GrLivArea', 'GarageCars', 'GarageArea', '1stFlrSF']\n"
     ]
    }
   ],
   "source": [
    "p_value_top = sorted(results, key=lambda x: results[x]['p-value'])[::-1]\n",
    "print(p_value_top[:5])\n",
    "f_stat_top = sorted(results, key=lambda x: results[x]['F stat'])[::-1]\n",
    "print(f_stat_top[:5])\n",
    "r_squared_top = sorted(results, key=lambda x: results[x]['r_squared'])[::-1]\n",
    "print(r_squared_top[:5])\n",
    "adj_r_squared_top = sorted(results, key=lambda x: results[x]['adj_r_squared'])[::-1]\n",
    "print(adj_r_squared_top[:5])"
   ]
  },
  {
   "cell_type": "code",
   "execution_count": 26,
   "metadata": {},
   "outputs": [
    {
     "name": "stdout",
     "output_type": "stream",
     "text": [
      "['OverallQual', 'GrLivArea', 'GarageCars', 'GarageArea', '1stFlrSF']\n",
      "TOP 5: [3, 8, 11, 21, 22]\n"
     ]
    }
   ],
   "source": [
    "f_stat_top = sorted(results, key=lambda x: results[x]['F stat'])[::-1]\n",
    "print(f_stat_top[:5])\n",
    "itop5_feature = [i for i, name in enumerate(num_features) if name in f_stat_top[:5]]\n",
    "print('TOP 5:', itop5_feature)"
   ]
  },
  {
   "cell_type": "code",
   "execution_count": 27,
   "metadata": {
    "colab": {
     "base_uri": "https://localhost:8080/"
    },
    "id": "K0IpAWBwsk-U",
    "outputId": "f4758992-33db-4123-dab8-d6be3475791b"
   },
   "outputs": [
    {
     "name": "stdout",
     "output_type": "stream",
     "text": [
      "RMSE on test for all features: 25204.46594640573\n"
     ]
    }
   ],
   "source": [
    "lin_reg = LinearRegresion()\n",
    "lin_reg.fit(X_test, y_test, epochs=500)\n",
    "pred = lin_reg.predict(X_test)\n",
    "print('RMSE on test for all features:', rmse(y_test, pred))"
   ]
  },
  {
   "cell_type": "code",
   "execution_count": 28,
   "metadata": {
    "colab": {
     "base_uri": "https://localhost:8080/"
    },
    "id": "TAMfZ8u5tHyP",
    "outputId": "c8f521bd-4d1c-4671-c10b-753751f3e570"
   },
   "outputs": [
    {
     "name": "stdout",
     "output_type": "stream",
     "text": [
      "RMSE on test for top5_feature: 31638.14853758224\n"
     ]
    }
   ],
   "source": [
    "lin_reg = LinearRegresion()\n",
    "lin_reg.fit(X_test[:, itop5_feature+[-1]], y_test, epochs=500)\n",
    "predict = lin_reg.predict(X_test[:,itop5_feature+[-1]])\n",
    "print('RMSE on test for top5_feature:', rmse(y_test, predict))"
   ]
  },
  {
   "cell_type": "markdown",
   "metadata": {},
   "source": [
    "Таким образом, ТОП 5 фичей: OverallQual, GrLivArea, GarageCars, GarageArea, 1stFlrSF\n",
    "\n",
    "На тестовой выборке ошибка упала не так много, поэтому можно считать, что признаки корректны"
   ]
  },
  {
   "cell_type": "code",
   "execution_count": null,
   "metadata": {},
   "outputs": [],
   "source": []
  },
  {
   "cell_type": "code",
   "execution_count": null,
   "metadata": {},
   "outputs": [],
   "source": []
  }
 ],
 "metadata": {
  "colab": {
   "collapsed_sections": [],
   "name": "Linear Regression HW2.ipynb",
   "provenance": []
  },
  "kernelspec": {
   "display_name": "Python 3",
   "language": "python",
   "name": "python3"
  },
  "language_info": {
   "codemirror_mode": {
    "name": "ipython",
    "version": 3
   },
   "file_extension": ".py",
   "mimetype": "text/x-python",
   "name": "python",
   "nbconvert_exporter": "python",
   "pygments_lexer": "ipython3",
   "version": "3.8.5"
  }
 },
 "nbformat": 4,
 "nbformat_minor": 1
}
