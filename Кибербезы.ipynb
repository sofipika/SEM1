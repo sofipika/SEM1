{
 "cells": [
  {
   "cell_type": "code",
   "execution_count": 1,
   "metadata": {},
   "outputs": [],
   "source": [
    "import random\n",
    "import re\n",
    "from ast import literal_eval\n",
    "import itertools"
   ]
  },
  {
   "cell_type": "code",
   "execution_count": 2,
   "metadata": {},
   "outputs": [
    {
     "data": {
      "text/html": [
       "<style>.container { width:95% !important; }</style>"
      ],
      "text/plain": [
       "<IPython.core.display.HTML object>"
      ]
     },
     "metadata": {},
     "output_type": "display_data"
    }
   ],
   "source": [
    "from IPython.display import display, HTML\n",
    "display(HTML(\"<style>.container { width:95% !important; }</style>\"))"
   ]
  },
  {
   "cell_type": "code",
   "execution_count": 3,
   "metadata": {},
   "outputs": [],
   "source": [
    "alphabet = ['a','b','c','d','e','f','g','h','i','j','k','l','m','n','o','p','q','r','s','t','u','v','w','x','y','z']\n",
    "alphabet_len = len(alphabet)"
   ]
  },
  {
   "cell_type": "code",
   "execution_count": 36,
   "metadata": {},
   "outputs": [],
   "source": [
    "# for shift\n",
    "input_shift = 'input.txt'\n",
    "output_shift = 'output.txt'\n",
    "decoded_shift = 'decoded.txt'\n",
    "shift = 3\n",
    "\n",
    "# for shuffle\n",
    "input_shuffle = 'input_shuffle.txt'\n",
    "output_shuffle = 'output_shuffle.txt'\n",
    "decoded_shuffle = 'decoded_shuffle.txt'\n",
    "key = '[[2, 1, 0], [0, 1, 2]]'\n",
    "\n",
    "# for gamma\n",
    "input_gamma = 'input_gamma.txt'\n",
    "output_gamma = 'output_gamma.txt'\n",
    "decoded_gamma = 'decoded_gamma.txt'\n",
    "key_for_gamma = 'hf'\n",
    "\n",
    "# for moving probable word cryptanalysis\n",
    "length_shuffle = 3\n",
    "length_gamma = 2\n",
    "number = 2\n",
    "probable_word = 'lion'\n",
    "encryption_type = 'gamma'"
   ]
  },
  {
   "cell_type": "code",
   "execution_count": 17,
   "metadata": {},
   "outputs": [],
   "source": [
    "func_shift = 'decode'\n",
    "func_shuffle = 'decode'\n",
    "func_gamma = 'decode'"
   ]
  },
  {
   "cell_type": "code",
   "execution_count": null,
   "metadata": {},
   "outputs": [],
   "source": []
  },
  {
   "cell_type": "markdown",
   "metadata": {},
   "source": [
    "# Шифрование методом сдвига"
   ]
  },
  {
   "cell_type": "code",
   "execution_count": 18,
   "metadata": {},
   "outputs": [],
   "source": [
    "def encode_shift(c, shift):\n",
    "    if c not in alphabet:\n",
    "        return c\n",
    "    index = (alphabet.index(c) + shift) % alphabet_len\n",
    "    return alphabet[index]"
   ]
  },
  {
   "cell_type": "code",
   "execution_count": 19,
   "metadata": {},
   "outputs": [],
   "source": [
    "def decode_shift(c, shift):\n",
    "    if c not in alphabet:\n",
    "        return c\n",
    "    index = (alphabet.index(c) - shift) % alphabet_len\n",
    "    return alphabet[index]"
   ]
  },
  {
   "cell_type": "code",
   "execution_count": 20,
   "metadata": {},
   "outputs": [],
   "source": [
    "if func_shift == 'encode':\n",
    "    with open(input_shift, \"r\") as fp_input:\n",
    "        with open(output_shift, \"w\") as fp_output:\n",
    "            while True:\n",
    "                c = fp_input.read(1).lower()\n",
    "                #print(c)\n",
    "                if not c:\n",
    "                    break\n",
    "                fp_output.write(encode_shift(c, shift))\n",
    "elif func_shift == 'decode':\n",
    "    with open(output_shift, \"r\") as fp_input:\n",
    "        with open(decoded_shift, \"w\") as fp_output:\n",
    "            while True:\n",
    "                c = fp_input.read(1).lower()\n",
    "                #print(c)\n",
    "                if not c:\n",
    "                    break\n",
    "                fp_output.write(decode_shift(c, shift))"
   ]
  },
  {
   "cell_type": "code",
   "execution_count": null,
   "metadata": {},
   "outputs": [],
   "source": []
  },
  {
   "cell_type": "markdown",
   "metadata": {},
   "source": [
    "# Шифрование методом перестановки"
   ]
  },
  {
   "cell_type": "code",
   "execution_count": 21,
   "metadata": {},
   "outputs": [],
   "source": [
    "def encode_shuffle(cs, key):\n",
    "    new_buffer = [None] * len(cs)\n",
    "    cur_len = 0\n",
    "    for subkey in key:\n",
    "        for ind, val in enumerate(subkey):\n",
    "            new_buffer[cur_len + val] = cs[cur_len + ind]\n",
    "        cur_len += len(subkey)\n",
    "    return \"\".join(new_buffer)"
   ]
  },
  {
   "cell_type": "code",
   "execution_count": 22,
   "metadata": {},
   "outputs": [],
   "source": [
    "def decode_shuffle(cs, key):\n",
    "    new_buffer = [None] * len(cs)\n",
    "    cur_len = 0\n",
    "    for subkey in key:\n",
    "        for ind, val in enumerate(subkey):\n",
    "            new_buffer[cur_len + int(ind)] = cs[cur_len + int(val)]\n",
    "        cur_len += len(subkey)\n",
    "    return \"\".join(new_buffer)"
   ]
  },
  {
   "cell_type": "code",
   "execution_count": 23,
   "metadata": {},
   "outputs": [],
   "source": [
    "key = literal_eval(key)\n",
    "total_len = sum(map(len, key))\n",
    "if func_shuffle == 'encode':\n",
    "    with open(input_shuffle, \"r\") as fp_input:\n",
    "        with open(output_shuffle, \"w\") as fp_output:\n",
    "            continue_cycle = True\n",
    "            buffer = []\n",
    "            while continue_cycle:\n",
    "                c = fp_input.read(1).lower()\n",
    "                c = re.sub(r\"\\s\", \" \", c)\n",
    "                if not c:\n",
    "                    if len(buffer) == 0:\n",
    "                        break\n",
    "                    continue_cycle = False\n",
    "                    while len(buffer) < total_len:\n",
    "                        buffer.append(random.choice(alphabet))\n",
    "                else:\n",
    "                    buffer.append(c)\n",
    "\n",
    "                if len(buffer) == total_len:\n",
    "                    fp_output.write(encode_shuffle(buffer, key))\n",
    "                    buffer = []\n",
    "\n",
    "elif func_shuffle == 'decode': \n",
    "    with open(output_shuffle, \"r\") as fp_input:\n",
    "        with open(decoded_shuffle, \"w\") as fp_output:\n",
    "            continue_cycle = True\n",
    "            buffer = []\n",
    "            while continue_cycle:\n",
    "                c = fp_input.read(1).lower()\n",
    "                c = re.sub(r\"\\s\", \" \", c)\n",
    "                if not c:\n",
    "                    if len(buffer) == 0:\n",
    "                        break\n",
    "                    continue_cycle = False\n",
    "                    while len(buffer) < total_len:\n",
    "                        buffer.append(random.choice(alphabet))\n",
    "                else:\n",
    "                    buffer.append(c)\n",
    "                if len(buffer) == total_len:\n",
    "                    fp_output.write(decode_shuffle(buffer, key))\n",
    "                    buffer = []"
   ]
  },
  {
   "cell_type": "code",
   "execution_count": null,
   "metadata": {},
   "outputs": [],
   "source": []
  },
  {
   "cell_type": "markdown",
   "metadata": {},
   "source": [
    "# Шифрование методом гаммирования"
   ]
  },
  {
   "cell_type": "code",
   "execution_count": 24,
   "metadata": {},
   "outputs": [],
   "source": [
    "def encode_gamma(c, key_for_gamma, pos):\n",
    "    if c not in alphabet:\n",
    "        return c\n",
    "    index = (alphabet.index(c) + alphabet.index(key_for_gamma[pos % len(key_for_gamma)]) ) % alphabet_len\n",
    "    return alphabet[index]"
   ]
  },
  {
   "cell_type": "code",
   "execution_count": 25,
   "metadata": {},
   "outputs": [],
   "source": [
    "def decode_gamma(c, key_for_gamma, pos):\n",
    "    if c not in alphabet:\n",
    "        return c\n",
    "    index = (alphabet.index(c) - alphabet.index(key_for_gamma[pos % len(key_for_gamma)]) ) % alphabet_len\n",
    "    return alphabet[index]"
   ]
  },
  {
   "cell_type": "code",
   "execution_count": 26,
   "metadata": {},
   "outputs": [],
   "source": [
    "if func_gamma == 'encode':\n",
    "    with open(input_gamma, \"r\") as fp_input:\n",
    "        with open(output_gamma, \"w\") as fp_output:\n",
    "            pos = 0\n",
    "            while True:\n",
    "                c = fp_input.read(1).lower()\n",
    "                if not c:\n",
    "                    break\n",
    "                fp_output.write(encode_gamma(c, key_for_gamma, pos))\n",
    "                pos += 1\n",
    "\n",
    "elif func_gamma == 'decode': \n",
    "    with open(output_gamma, \"r\") as fp_input:\n",
    "        with open(decoded_gamma, \"w\") as fp_output:\n",
    "            pos = 0\n",
    "            while True:\n",
    "                c = fp_input.read(1).lower()\n",
    "                if not c:\n",
    "                    break\n",
    "                fp_output.write(decode_gamma(c, key_for_gamma, pos))\n",
    "                pos += 1\n"
   ]
  },
  {
   "cell_type": "code",
   "execution_count": null,
   "metadata": {},
   "outputs": [],
   "source": []
  },
  {
   "cell_type": "markdown",
   "metadata": {},
   "source": [
    "# Метод протяжки вероятного слова"
   ]
  },
  {
   "cell_type": "code",
   "execution_count": 27,
   "metadata": {},
   "outputs": [],
   "source": [
    "def params_for_shift():\n",
    "    for shift in range(alphabet_len):\n",
    "        yield shift\n",
    "\n",
    "def params_for_shuffle(len_, num):\n",
    "    if num == 1:\n",
    "        for state in itertools.permutations(range(len_)):\n",
    "            yield [state]\n",
    "    else:\n",
    "        for first_state in itertools.permutations(range(len_)):\n",
    "            for next_states in params_for_shuffle(len_, num - 1):\n",
    "                yield [first_state] + next_states\n",
    "\n",
    "def params_for_gamma(key_len):\n",
    "    if key_len == 1:\n",
    "        for c in alphabet:\n",
    "            yield c\n",
    "    else:\n",
    "        for first_char in alphabet:\n",
    "            for next_chars in params_for_gamma(key_len - 1):\n",
    "                yield first_char + next_chars"
   ]
  },
  {
   "cell_type": "code",
   "execution_count": 28,
   "metadata": {},
   "outputs": [],
   "source": [
    "def decode_shift(input_text, shift):\n",
    "    decoded_text = \"\"\n",
    "    for c in input_text:\n",
    "        if c not in alphabet:\n",
    "            decoded_text += c\n",
    "        else:\n",
    "            decoded_text += alphabet[(alphabet.index(c) - shift) % alphabet_len]\n",
    "    return decoded_text\n",
    "\n",
    "def decode_shuffle(input_text, key):\n",
    "    total_len = sum(map(len, key))\n",
    "    input_text = iter(input_text)\n",
    "    decoded_text = \"\"\n",
    "    continue_cycle = True\n",
    "    buffer = []\n",
    "    while continue_cycle:\n",
    "        try:\n",
    "            c = next(input_text).lower()\n",
    "        except StopIteration:\n",
    "            c = \"\"\n",
    "        c = re.sub(r\"\\s\", \" \", c)\n",
    "        if not c:\n",
    "            if len(buffer) == 0:\n",
    "                break\n",
    "            continue_cycle = False\n",
    "            while len(buffer) < total_len:\n",
    "                buffer.append(random.choice(alphabet))\n",
    "        else:\n",
    "            buffer.append(c)\n",
    "        if len(buffer) == total_len:\n",
    "            new_buffer = [None] * len(buffer)\n",
    "            cur_len = 0\n",
    "            for subkey in key:\n",
    "                for ind, val in enumerate(subkey):\n",
    "                    new_buffer[cur_len + ind] = buffer[cur_len + val]\n",
    "                cur_len += len(subkey)\n",
    "            decoded_text += \"\".join(new_buffer)\n",
    "            buffer = []\n",
    "    return decoded_text\n",
    "\n",
    "def decode_gamma(input_text, key):\n",
    "    decoded_text = \"\"\n",
    "    for pos, c in enumerate(input_text):\n",
    "        if c not in alphabet:\n",
    "            decoded_text += c\n",
    "        else:\n",
    "            decoded_text += alphabet[\n",
    "                (alphabet.index(c) - alphabet.index(key[pos % len(key)])) % alphabet_len]\n",
    "    return decoded_text"
   ]
  },
  {
   "cell_type": "code",
   "execution_count": 37,
   "metadata": {},
   "outputs": [
    {
     "name": "stdout",
     "output_type": "stream",
     "text": [
      "0 ключ: hf\n"
     ]
    }
   ],
   "source": [
    "i = 0\n",
    "list_of_keys = []\n",
    "\n",
    "if encryption_type == \"shift\":\n",
    "    iterator = params_for_shift()\n",
    "    decoder_func = decode_shift\n",
    "    input_file = output_shift\n",
    "\n",
    "if encryption_type== \"shuffle\":\n",
    "    iterator = params_for_shuffle(length_shuffle, number)\n",
    "    decoder_func = decode_shuffle\n",
    "    input_file = output_shuffle\n",
    "\n",
    "if encryption_type == \"gamma\":\n",
    "    iterator = params_for_gamma(length_gamma)\n",
    "    decoder_func = decode_gamma\n",
    "    input_file = output_gamma\n",
    "\n",
    "with open(input_file, \"r\") as fp_input:\n",
    "    input_text = fp_input.read()\n",
    "for key in iterator:\n",
    "    decoded_text = decoder_func(input_text, key)\n",
    "    if probable_word in decoded_text:\n",
    "        list_of_keys.append(key)\n",
    "        print(f\"{i} ключ: {key}\")\n",
    "        i += 1"
   ]
  },
  {
   "cell_type": "code",
   "execution_count": 38,
   "metadata": {},
   "outputs": [
    {
     "name": "stdout",
     "output_type": "stream",
     "text": [
      "Выберите номер ключа, чтобы вывести на экран кусочек расшифрованного текста (например: 0): \n",
      "0\n",
      "a lion was once sleeping in the jungle when a mouse started running up and down his body just for fun. this disturbed the lion’s sleep, and he woke up quite angry. he was about to eat the mouse when the mouse desperately requested the lion to set him free. i promise you, i will be of great help to you someday if you save me. the lion laughed at the mouse’s confidence and let him go. one day, a few hunters came into the forest and took the lion with them. they tied him up against a tree. the lion was struggling to get out and started to whimper. soon, the mouse walked past and noticed the lion in trouble. quickly, he ran and gnawed on the ropes to set the lion free. both of them sped off into the jungle.\n"
     ]
    }
   ],
   "source": [
    "input_key_num = input(\"Выберите номер ключа, чтобы вывести на экран кусочек расшифрованного текста (например: 0): \\n\")\n",
    "print(decoder_func(input_text, list_of_keys[int(input_key_num)]))"
   ]
  },
  {
   "cell_type": "code",
   "execution_count": null,
   "metadata": {},
   "outputs": [],
   "source": []
  },
  {
   "cell_type": "code",
   "execution_count": null,
   "metadata": {},
   "outputs": [],
   "source": []
  }
 ],
 "metadata": {
  "kernelspec": {
   "display_name": "Python 3",
   "language": "python",
   "name": "python3"
  },
  "language_info": {
   "codemirror_mode": {
    "name": "ipython",
    "version": 3
   },
   "file_extension": ".py",
   "mimetype": "text/x-python",
   "name": "python",
   "nbconvert_exporter": "python",
   "pygments_lexer": "ipython3",
   "version": "3.8.5"
  }
 },
 "nbformat": 4,
 "nbformat_minor": 4
}
