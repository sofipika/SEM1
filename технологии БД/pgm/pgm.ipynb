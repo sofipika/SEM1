{
 "cells": [
  {
   "cell_type": "code",
   "execution_count": 3,
   "metadata": {},
   "outputs": [],
   "source": [
    "from pgmpy.models import BayesianNetwork\n",
    "from pgmpy.factors.discrete import TabularCPD"
   ]
  },
  {
   "cell_type": "code",
   "execution_count": 2,
   "metadata": {
    "collapsed": true
   },
   "outputs": [
    {
     "name": "stdout",
     "output_type": "stream",
     "text": [
      "Defaulting to user installation because normal site-packages is not writeable\n",
      "Collecting pgmpy\n",
      "  Downloading pgmpy-0.1.16-py3-none-any.whl (1.9 MB)\n",
      "\u001b[K     |████████████████████████████████| 1.9 MB 1.5 MB/s eta 0:00:01\n",
      "\u001b[?25hRequirement already satisfied: pandas in /opt/anaconda3/lib/python3.8/site-packages (from pgmpy) (1.1.3)\n",
      "Requirement already satisfied: joblib in /opt/anaconda3/lib/python3.8/site-packages (from pgmpy) (0.17.0)\n",
      "Requirement already satisfied: scipy in /opt/anaconda3/lib/python3.8/site-packages (from pgmpy) (1.5.2)\n",
      "Requirement already satisfied: pyparsing in /opt/anaconda3/lib/python3.8/site-packages (from pgmpy) (2.4.7)\n",
      "Requirement already satisfied: statsmodels in /opt/anaconda3/lib/python3.8/site-packages (from pgmpy) (0.12.0)\n",
      "Requirement already satisfied: scikit-learn in /opt/anaconda3/lib/python3.8/site-packages (from pgmpy) (0.23.2)\n",
      "Requirement already satisfied: networkx in /opt/anaconda3/lib/python3.8/site-packages (from pgmpy) (2.5)\n",
      "Collecting torch\n",
      "  Downloading torch-1.10.1-cp38-none-macosx_10_9_x86_64.whl (147.1 MB)\n",
      "\u001b[K     |████████████████████████████████| 147.1 MB 60 kB/s  eta 0:00:01\n",
      "\u001b[?25hRequirement already satisfied: numpy in /opt/anaconda3/lib/python3.8/site-packages (from pgmpy) (1.19.2)\n",
      "Requirement already satisfied: tqdm in /opt/anaconda3/lib/python3.8/site-packages (from pgmpy) (4.50.2)\n",
      "Requirement already satisfied: pytz>=2017.2 in /opt/anaconda3/lib/python3.8/site-packages (from pandas->pgmpy) (2020.1)\n",
      "Requirement already satisfied: python-dateutil>=2.7.3 in /opt/anaconda3/lib/python3.8/site-packages (from pandas->pgmpy) (2.8.1)\n",
      "Requirement already satisfied: patsy>=0.5 in /opt/anaconda3/lib/python3.8/site-packages (from statsmodels->pgmpy) (0.5.1)\n",
      "Requirement already satisfied: threadpoolctl>=2.0.0 in /opt/anaconda3/lib/python3.8/site-packages (from scikit-learn->pgmpy) (2.1.0)\n",
      "Requirement already satisfied: decorator>=4.3.0 in /opt/anaconda3/lib/python3.8/site-packages (from networkx->pgmpy) (4.4.2)\n",
      "Requirement already satisfied: typing-extensions in /opt/anaconda3/lib/python3.8/site-packages (from torch->pgmpy) (3.7.4.3)\n",
      "Requirement already satisfied: six>=1.5 in /opt/anaconda3/lib/python3.8/site-packages (from python-dateutil>=2.7.3->pandas->pgmpy) (1.15.0)\n",
      "Installing collected packages: torch, pgmpy\n",
      "\u001b[33m  WARNING: The scripts convert-caffe2-to-onnx, convert-onnx-to-caffe2 and torchrun are installed in '/Users/a18289972/.local/bin' which is not on PATH.\n",
      "  Consider adding this directory to PATH or, if you prefer to suppress this warning, use --no-warn-script-location.\u001b[0m\n",
      "Successfully installed pgmpy-0.1.16 torch-1.10.1\n",
      "Note: you may need to restart the kernel to use updated packages.\n"
     ]
    }
   ],
   "source": [
    "%pip install pgmpy"
   ]
  },
  {
   "cell_type": "code",
   "execution_count": 4,
   "metadata": {},
   "outputs": [],
   "source": [
    "model = BayesianNetwork([('credit_history', 'transaction_history'), \n",
    "                         ('sum_assest', 'transaction_history'), \n",
    "                         ('transaction', 'transaction_history'), \n",
    "                         ('salary', 'transaction_history'), \n",
    "                         ('age', 'transaction_history'), \n",
    "                         ('age', 'dependability'), \n",
    "                         ('family', 'dependability'), \n",
    "                         ('previous_conviction', 'dependability'), \n",
    "                         ('OSZ_del_salary', 'dependability'), \n",
    "                         ('about_ul_fl_ip', 'dependability'), \n",
    "                         ('dependability', 'credit_ok'), \n",
    "                         ('transaction_history', 'credit_ok')])"
   ]
  },
  {
   "cell_type": "code",
   "execution_count": 5,
   "metadata": {},
   "outputs": [],
   "source": [
    "tabcpd_credit_history = TabularCPD(variable='credit_history', variable_card=3, \n",
    "                             values=[[0.33], [0.34], [0.33]], \n",
    "                             state_names={'credit_history': ['top', 'normal', 'terribal']})\n",
    "\n",
    "tabcpd_age = TabularCPD(variable='age', variable_card=3, \n",
    "                     values=[[0.33], [0.34], [0.33]], \n",
    "                     state_names={'age': ['age0_20', 'age21_60', 'age61_']})\n",
    "\n",
    "tabcpd_transaction = TabularCPD(variable='transaction', variable_card=3, \n",
    "                            values=[[0.33], [0.34], [0.33]],\n",
    "                            state_names={'transaction': ['low', 'higt','normal']})\n",
    "\n",
    "tabcpd_sum_assest = TabularCPD(variable='sum_assest', variable_card=3, \n",
    "                            values=[[0.33], [0.34], [0.33]],\n",
    "                            state_names={'sum_assest': ['low', 'higt','normal']})\n",
    "\n",
    "tabcpd_salary = TabularCPD(variable='salary', variable_card=3, \n",
    "                            values=[[0.33], [0.34], [0.33]],\n",
    "                            state_names={'salary': ['low', 'higt','normal']})\n",
    "\n",
    "tabcpd_family = TabularCPD(variable='family', variable_card=2, \n",
    "                             values=[[0.5], [0.5]], \n",
    "                             state_names={'family': ['yes', 'no']})\n",
    "\n",
    "tabcpd_previous_conviction = TabularCPD(variable='previous_conviction', variable_card=2, \n",
    "                             values=[[0.5], [0.5]], \n",
    "                             state_names={'previous_conviction': ['yes', 'no']})\n",
    "\n",
    "tabcpd_OSZ_del_salary = TabularCPD(variable='OSZ_del_salary', variable_card=2, \n",
    "                             values=[[0.5], [0.5]], \n",
    "                             state_names={'OSZ_del_salary': ['yes', 'no']})\n",
    "\n",
    "tabcpd_about_ul_fl_ip = TabularCPD(variable='about_ul_fl_ip', variable_card=3, \n",
    "                            values=[[0.33], [0.34], [0.33]],\n",
    "                            state_names={'about_ul_fl_ip': ['low', 'higt','normal']})"
   ]
  },
  {
   "cell_type": "code",
   "execution_count": 32,
   "metadata": {},
   "outputs": [],
   "source": [
    "tabcpd_transaction_history = TabularCPD(variable='transaction_history', variable_card=2, \n",
    "                        values=[[0.5, 0.5, 0.5, 0.5, 0.5, 0.5, 0.5, 0.5, 0.5, 0.5, 0.5, 0.5, 0.5, 0.5, 0.5, 0.5, 0.5, 0.5, 0.5, 0.5, 0.5, 0.5, 0.5, 0.5, 0.5, 0.5, 0.5, 0.5, 0.5, 0.5, 0.5, 0.5, 0.5, 0.5, 0.5, 0.5, 0.5, 0.5, 0.5, 0.5, 0.5, 0.5, 0.5, 0.5, 0.5, 0.5, 0.5, 0.5, 0.5, 0.5, 0.5, 0.5, 0.5, 0.5, 0.5, 0.5, 0.5, 0.5, 0.5, 0.5, 0.5, 0.5, 0.5, 0.5, 0.5, 0.5, 0.5, 0.5, 0.5, 0.5, 0.5, 0.5, 0.5, 0.5, 0.5, 0.5, 0.5, 0.5, 0.5, 0.5, 0.5, 0.5, 0.5, 0.5, 0.5, 0.5, 0.5, 0.5, 0.5, 0.5, 0.5, 0.5, 0.5, 0.5, 0.5, 0.5, 0.5, 0.5, 0.5, 0.5, 0.5, 0.5, 0.5, 0.5, 0.5, 0.5, 0.5, 0.5, 0.5, 0.5, 0.5, 0.5, 0.5, 0.5, 0.5, 0.5, 0.5, 0.5, 0.5, 0.5, 0.5, 0.5, 0.5, 0.5, 0.5, 0.5, 0.5, 0.5, 0.5, 0.5, 0.5, 0.5, 0.5, 0.5, 0.5, 0.5, 0.5, 0.5, 0.5, 0.5, 0.5, 0.5, 0.5, 0.5, 0.5, 0.5, 0.5, 0.5, 0.5, 0.5, 0.5, 0.5, 0.5, 0.5, 0.5, 0.5, 0.5, 0.5, 0.5, 0.5, 0.5, 0.5, 0.5, 0.5, 0.5, 0.5, 0.5, 0.5, 0.5, 0.5, 0.5, 0.5, 0.5, 0.5, 0.5, 0.5, 0.5, 0.5, 0.5, 0.5, 0.5, 0.5, 0.5, 0.5, 0.5, 0.5, 0.5, 0.5, 0.5, 0.5, 0.5, 0.5, 0.5, 0.5, 0.5, 0.5, 0.5, 0.5, 0.5, 0.5, 0.5, 0.5, 0.5, 0.5, 0.5, 0.5, 0.5, 0.5, 0.5, 0.5, 0.5, 0.5, 0.5, 0.5, 0.5, 0.5, 0.5, 0.5, 0.5, 0.5, 0.5, 0.5, 0.5, 0.5, 0.5, 0.5, 0.5, 0.5, 0.5, 0.5, 0.5, 0.5, 0.5, 0.5, 0.5, 0.5, 0.5, 0.5, 0.5, 0.5, 0.5, 0.5, 0.5], \n",
    "                                [0.5, 0.5, 0.5, 0.5, 0.5, 0.5, 0.5, 0.5, 0.5, 0.5, 0.5, 0.5, 0.5, 0.5, 0.5, 0.5, 0.5, 0.5, 0.5, 0.5, 0.5, 0.5, 0.5, 0.5, 0.5, 0.5, 0.5, 0.5, 0.5, 0.5, 0.5, 0.5, 0.5, 0.5, 0.5, 0.5, 0.5, 0.5, 0.5, 0.5, 0.5, 0.5, 0.5, 0.5, 0.5, 0.5, 0.5, 0.5, 0.5, 0.5, 0.5, 0.5, 0.5, 0.5, 0.5, 0.5, 0.5, 0.5, 0.5, 0.5, 0.5, 0.5, 0.5, 0.5, 0.5, 0.5, 0.5, 0.5, 0.5, 0.5, 0.5, 0.5, 0.5, 0.5, 0.5, 0.5, 0.5, 0.5, 0.5, 0.5, 0.5, 0.5, 0.5, 0.5, 0.5, 0.5, 0.5, 0.5, 0.5, 0.5, 0.5, 0.5, 0.5, 0.5, 0.5, 0.5, 0.5, 0.5, 0.5, 0.5, 0.5, 0.5, 0.5, 0.5, 0.5, 0.5, 0.5, 0.5, 0.5, 0.5, 0.5, 0.5, 0.5, 0.5, 0.5, 0.5, 0.5, 0.5, 0.5, 0.5, 0.5, 0.5, 0.5, 0.5, 0.5, 0.5, 0.5, 0.5, 0.5, 0.5, 0.5, 0.5, 0.5, 0.5, 0.5, 0.5, 0.5, 0.5, 0.5, 0.5, 0.5, 0.5, 0.5, 0.5, 0.5, 0.5, 0.5, 0.5, 0.5, 0.5, 0.5, 0.5, 0.5, 0.5, 0.5, 0.5, 0.5, 0.5, 0.5, 0.5, 0.5, 0.5, 0.5, 0.5, 0.5, 0.5, 0.5, 0.5, 0.5, 0.5, 0.5, 0.5, 0.5, 0.5, 0.5, 0.5, 0.5, 0.5, 0.5, 0.5, 0.5, 0.5, 0.5, 0.5, 0.5, 0.5, 0.5, 0.5, 0.5, 0.5, 0.5, 0.5, 0.5, 0.5, 0.5, 0.5, 0.5, 0.5, 0.5, 0.5, 0.5, 0.5, 0.5, 0.5, 0.5, 0.5, 0.5, 0.5, 0.5, 0.5, 0.5, 0.5, 0.5, 0.5, 0.5, 0.5, 0.5, 0.5, 0.5, 0.5, 0.5, 0.5, 0.5, 0.5, 0.5, 0.5, 0.5, 0.5, 0.5, 0.5, 0.5, 0.5, 0.5, 0.5, 0.5, 0.5, 0.5, 0.5, 0.5, 0.5, 0.5, 0.5, 0.5]], \n",
    "                        evidence=['credit_history', 'sum_assest','transaction','salary','age'],\n",
    "                        evidence_card=[3, 3, 3, 3, 3], \n",
    "                        state_names={'credit_history': ['top', 'normal', 'terribal'], \n",
    "                                     'sum_assest': ['low', 'higt','normal'], \n",
    "                                     'transaction': ['low', 'higt','normal'],\n",
    "                                     'salary': ['low', 'higt','normal'],\n",
    "                                     'age': ['age0_20', 'age21_60', 'age61_'],\n",
    "                                     'transaction_history':['yes', 'no']})                      \n",
    "\n",
    "tabcpd_dependability = TabularCPD(variable='dependability', variable_card=2, \n",
    "                          values=[[0.5, 0.5, 0.5, 0.5, 0.5, 0.5, 0.5, 0.5, 0.5, 0.5, 0.5, 0.5, 0.5, 0.5, 0.5, 0.5, 0.5, 0.5, 0.5, 0.5, 0.5, 0.5, 0.5, 0.5, 0.5, 0.5, 0.5, 0.5, 0.5, 0.5, 0.5, 0.5, 0.5, 0.5, 0.5, 0.5, 0.5, 0.5, 0.5, 0.5, 0.5, 0.5, 0.5, 0.5, 0.5, 0.5, 0.5, 0.5, 0.5, 0.5, 0.5, 0.5, 0.5, 0.5, 0.5, 0.5, 0.5, 0.5, 0.5, 0.5, 0.5, 0.5, 0.5, 0.5, 0.5, 0.5, 0.5, 0.5, 0.5, 0.5, 0.5, 0.5], \n",
    "                                  [0.5, 0.5, 0.5, 0.5, 0.5, 0.5, 0.5, 0.5, 0.5, 0.5, 0.5, 0.5, 0.5, 0.5, 0.5, 0.5, 0.5, 0.5, 0.5, 0.5, 0.5, 0.5, 0.5, 0.5, 0.5, 0.5, 0.5, 0.5, 0.5, 0.5, 0.5, 0.5, 0.5, 0.5, 0.5, 0.5, 0.5, 0.5, 0.5, 0.5, 0.5, 0.5, 0.5, 0.5, 0.5, 0.5, 0.5, 0.5, 0.5, 0.5, 0.5, 0.5, 0.5, 0.5, 0.5, 0.5, 0.5, 0.5, 0.5, 0.5, 0.5, 0.5, 0.5, 0.5, 0.5, 0.5, 0.5, 0.5, 0.5, 0.5, 0.5, 0.5]], \n",
    "                          evidence=['age', 'family', 'previous_conviction','about_ul_fl_ip','OSZ_del_salary'],\n",
    "                          evidence_card=[3, 2, 2, 3, 2], \n",
    "                          state_names={'age': ['age0_20', 'age21_60', 'age61_'], \n",
    "                                       'family': ['yes', 'no'], \n",
    "                                       'previous_conviction': ['yes', 'no'], \n",
    "                                       'about_ul_fl_ip': ['low', 'higt','normal'],\n",
    "                                       'OSZ_del_salary':['yes', 'no'],\n",
    "                                       'dependability':['yes', 'no']})                         \n",
    "\n",
    "tabcpd_credit_ok = TabularCPD(variable='credit_ok', variable_card=2, \n",
    "                                values=[[0.5, 0.5, 0.5, 0.5], \n",
    "                                        [0.5, 0.5, 0.5, 0.5]], \n",
    "                                evidence=['transaction_history', 'dependability'],\n",
    "                                evidence_card=[2, 2], \n",
    "                                state_names={'dependability': ['yes', 'no'], \n",
    "                                             'transaction_history': ['norm', 'no_norm'], \n",
    "                                             'credit_ok': ['yes', 'no']})     "
   ]
  },
  {
   "cell_type": "code",
   "execution_count": 33,
   "metadata": {},
   "outputs": [
    {
     "data": {
      "text/plain": [
       "True"
      ]
     },
     "execution_count": 33,
     "metadata": {},
     "output_type": "execute_result"
    }
   ],
   "source": [
    "model.add_cpds(tabcpd_credit_history, tabcpd_age, tabcpd_transaction, tabcpd_sum_assest, tabcpd_salary, tabcpd_family, tabcpd_previous_conviction, tabcpd_OSZ_del_salary, tabcpd_about_ul_fl_ip, tabcpd_transaction_history, tabcpd_dependability, tabcpd_credit_ok)\n",
    "\n",
    "model.check_model()"
   ]
  },
  {
   "cell_type": "code",
   "execution_count": 40,
   "metadata": {},
   "outputs": [
    {
     "data": {
      "text/plain": [
       "[<TabularCPD representing P(credit_history:3) at 0x7fc392e0e730>,\n",
       " <TabularCPD representing P(age:3) at 0x7fc392e0e6d0>,\n",
       " <TabularCPD representing P(transaction:3) at 0x7fc392e0e760>,\n",
       " <TabularCPD representing P(sum_assest:3) at 0x7fc392e0e7c0>,\n",
       " <TabularCPD representing P(salary:3) at 0x7fc392e0e820>,\n",
       " <TabularCPD representing P(family:2) at 0x7fc392e0e850>,\n",
       " <TabularCPD representing P(previous_conviction:2) at 0x7fc392e0e880>,\n",
       " <TabularCPD representing P(OSZ_del_salary:2) at 0x7fc392e0e8b0>,\n",
       " <TabularCPD representing P(about_ul_fl_ip:3) at 0x7fc392e0e8e0>,\n",
       " <TabularCPD representing P(transaction_history:2 | credit_history:3, sum_assest:3, transaction:3, salary:3, age:3) at 0x7fc392e38e20>,\n",
       " <TabularCPD representing P(dependability:2 | age:3, family:2, previous_conviction:2, about_ul_fl_ip:3, OSZ_del_salary:2) at 0x7fc392e38b50>,\n",
       " <TabularCPD representing P(credit_ok:2 | transaction_history:2, dependability:2) at 0x7fc392e38040>]"
      ]
     },
     "execution_count": 40,
     "metadata": {},
     "output_type": "execute_result"
    }
   ],
   "source": [
    "model.get_cpds()"
   ]
  },
  {
   "cell_type": "code",
   "execution_count": 41,
   "metadata": {},
   "outputs": [],
   "source": [
    "from pgmpy.inference import VariableElimination\n",
    "infer = VariableElimination(model)"
   ]
  },
  {
   "cell_type": "code",
   "execution_count": 42,
   "metadata": {},
   "outputs": [
    {
     "data": {
      "application/vnd.jupyter.widget-view+json": {
       "model_id": "d44fd920c66847b08ec84b6c1983ccb4",
       "version_major": 2,
       "version_minor": 0
      },
      "text/plain": [
       "HBox(children=(HTML(value=''), FloatProgress(value=0.0, max=11.0), HTML(value='')))"
      ]
     },
     "metadata": {},
     "output_type": "display_data"
    },
    {
     "data": {
      "application/vnd.jupyter.widget-view+json": {
       "model_id": "8af4c2a055bf4b6baba1862865c8fe7e",
       "version_major": 2,
       "version_minor": 0
      },
      "text/plain": [
       "HBox(children=(HTML(value=''), FloatProgress(value=0.0, max=11.0), HTML(value='')))"
      ]
     },
     "metadata": {},
     "output_type": "display_data"
    },
    {
     "name": "stdout",
     "output_type": "stream",
     "text": [
      "\n",
      "\n",
      "+----------------+------------------+\n",
      "| credit_ok      |   phi(credit_ok) |\n",
      "+================+==================+\n",
      "| credit_ok(yes) |           0.5000 |\n",
      "+----------------+------------------+\n",
      "| credit_ok(no)  |           0.5000 |\n",
      "+----------------+------------------+\n"
     ]
    }
   ],
   "source": [
    "quer = infer.query(['credit_ok'])\n",
    "print(quer)"
   ]
  },
  {
   "cell_type": "code",
   "execution_count": null,
   "metadata": {},
   "outputs": [],
   "source": []
  }
 ],
 "metadata": {
  "kernelspec": {
   "display_name": "Python 3",
   "language": "python",
   "name": "python3"
  },
  "language_info": {
   "codemirror_mode": {
    "name": "ipython",
    "version": 3
   },
   "file_extension": ".py",
   "mimetype": "text/x-python",
   "name": "python",
   "nbconvert_exporter": "python",
   "pygments_lexer": "ipython3",
   "version": "3.8.5"
  }
 },
 "nbformat": 4,
 "nbformat_minor": 4
}
