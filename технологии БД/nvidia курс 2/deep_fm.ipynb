{
 "cells": [
  {
   "cell_type": "markdown",
   "metadata": {},
   "source": [
    "<div align=\"center\"><a href=\"https://www.nvidia.com/en-us/deep-learning-ai/education/\"><img src=\"../../images/DLI_Header.png\"></a></div>"
   ]
  },
  {
   "cell_type": "markdown",
   "metadata": {},
   "source": [
    "# DeepFM\n",
    "\n",
    "[DeepFM](https://www.ijcai.org/Proceedings/2017/0239.pdf) is a neural network architecture built through a collaboration between Harbin Institute of Technology and Huawei. It's similar to the Wide & Deep architecture we learned before, and we can transition our model with a couple modifications.\n",
    "\n",
    "## Objective\n",
    "* Understand the logic behind DeepFM and how to create a model with it\n",
    "\n",
    "The neural network we made with Wide & Deep performed comparatively to our Matrix Factorization model with ALS. The key advantage ALS has over Wide & Deep and normal DNNs is that it captures the interaction between users and items as a product, where as typical neural networks, no matter how many layers it has or how exotic the activation functions are, are ultimately a linear combination of features.\n",
    "\n",
    "DeepFM tries to solve for this by including a product of features within it's architecture. Let's take a look.\n",
    "\n",
    "<img src=\"DeepFM.png\" height=300 width=300>"
   ]
  },
  {
   "cell_type": "markdown",
   "metadata": {},
   "source": [
    "On the left of this diagram, we have our good old-fashiobed DNN. On the right, we take our embeddings and multiply their results elementwise, allowing us to have a user-item interaction. "
   ]
  },
  {
   "cell_type": "code",
   "execution_count": 1,
   "metadata": {},
   "outputs": [
    {
     "name": "stderr",
     "output_type": "stream",
     "text": [
      "/usr/local/lib/python3.6/dist-packages/IPython/core/interactiveshell.py:3063: DtypeWarning: Columns (12) have mixed types. Specify dtype option on import or set low_memory=False.\n",
      "  interactivity=interactivity, compiler=compiler, result=result)\n"
     ]
    },
    {
     "data": {
      "text/html": [
       "<div>\n",
       "<style>\n",
       "    .dataframe thead tr:only-child th {\n",
       "        text-align: right;\n",
       "    }\n",
       "\n",
       "    .dataframe thead th {\n",
       "        text-align: left;\n",
       "    }\n",
       "\n",
       "    .dataframe tbody tr th {\n",
       "        vertical-align: top;\n",
       "    }\n",
       "</style>\n",
       "<table border=\"1\" class=\"dataframe\">\n",
       "  <thead>\n",
       "    <tr style=\"text-align: right;\">\n",
       "      <th></th>\n",
       "      <th>reviewerID</th>\n",
       "      <th>asin</th>\n",
       "      <th>overall</th>\n",
       "      <th>unixReviewTime</th>\n",
       "      <th>brand</th>\n",
       "      <th>category_0_0</th>\n",
       "      <th>category_0_1</th>\n",
       "      <th>category_0_2</th>\n",
       "      <th>category_0_3</th>\n",
       "      <th>category_1_0</th>\n",
       "      <th>...</th>\n",
       "      <th>user_index</th>\n",
       "      <th>item_index</th>\n",
       "      <th>brand_index</th>\n",
       "      <th>als_prediction</th>\n",
       "      <th>user_embed_0</th>\n",
       "      <th>user_embed_1</th>\n",
       "      <th>item_embed_0</th>\n",
       "      <th>item_embed_1</th>\n",
       "      <th>category_0_2_index</th>\n",
       "      <th>category_1_2_index</th>\n",
       "    </tr>\n",
       "  </thead>\n",
       "  <tbody>\n",
       "    <tr>\n",
       "      <th>0</th>\n",
       "      <td>A1JYQVP71WHBTL</td>\n",
       "      <td>B000089GN2</td>\n",
       "      <td>4.0</td>\n",
       "      <td>1124755200</td>\n",
       "      <td>NaN</td>\n",
       "      <td>Electronics</td>\n",
       "      <td>Computers &amp; Accessories</td>\n",
       "      <td>Cables &amp; Accessories</td>\n",
       "      <td>Headsets &amp; Microphones</td>\n",
       "      <td>NaN</td>\n",
       "      <td>...</td>\n",
       "      <td>28303</td>\n",
       "      <td>2170</td>\n",
       "      <td>28303</td>\n",
       "      <td>4.301226</td>\n",
       "      <td>-3.194782</td>\n",
       "      <td>0.994011</td>\n",
       "      <td>-0.545815</td>\n",
       "      <td>0.169756</td>\n",
       "      <td>28</td>\n",
       "      <td>101</td>\n",
       "    </tr>\n",
       "    <tr>\n",
       "      <th>1</th>\n",
       "      <td>A3J9H77W4U792L</td>\n",
       "      <td>B000089GN2</td>\n",
       "      <td>5.0</td>\n",
       "      <td>1166918400</td>\n",
       "      <td>NaN</td>\n",
       "      <td>Electronics</td>\n",
       "      <td>Computers &amp; Accessories</td>\n",
       "      <td>Cables &amp; Accessories</td>\n",
       "      <td>Headsets &amp; Microphones</td>\n",
       "      <td>NaN</td>\n",
       "      <td>...</td>\n",
       "      <td>128916</td>\n",
       "      <td>2170</td>\n",
       "      <td>128916</td>\n",
       "      <td>4.073197</td>\n",
       "      <td>-3.025520</td>\n",
       "      <td>0.940960</td>\n",
       "      <td>-1.291462</td>\n",
       "      <td>0.401487</td>\n",
       "      <td>28</td>\n",
       "      <td>101</td>\n",
       "    </tr>\n",
       "    <tr>\n",
       "      <th>2</th>\n",
       "      <td>A23IV3DK4EAXJH</td>\n",
       "      <td>B000089GN2</td>\n",
       "      <td>4.0</td>\n",
       "      <td>1124755200</td>\n",
       "      <td>NaN</td>\n",
       "      <td>Electronics</td>\n",
       "      <td>Computers &amp; Accessories</td>\n",
       "      <td>Cables &amp; Accessories</td>\n",
       "      <td>Headsets &amp; Microphones</td>\n",
       "      <td>NaN</td>\n",
       "      <td>...</td>\n",
       "      <td>56077</td>\n",
       "      <td>2170</td>\n",
       "      <td>56077</td>\n",
       "      <td>3.985848</td>\n",
       "      <td>-2.960602</td>\n",
       "      <td>0.920899</td>\n",
       "      <td>-1.077276</td>\n",
       "      <td>0.335293</td>\n",
       "      <td>28</td>\n",
       "      <td>101</td>\n",
       "    </tr>\n",
       "    <tr>\n",
       "      <th>3</th>\n",
       "      <td>A93NUQAQIGU6G</td>\n",
       "      <td>B000089GN2</td>\n",
       "      <td>4.0</td>\n",
       "      <td>1104883200</td>\n",
       "      <td>NaN</td>\n",
       "      <td>Electronics</td>\n",
       "      <td>Computers &amp; Accessories</td>\n",
       "      <td>Cables &amp; Accessories</td>\n",
       "      <td>Headsets &amp; Microphones</td>\n",
       "      <td>NaN</td>\n",
       "      <td>...</td>\n",
       "      <td>154651</td>\n",
       "      <td>2170</td>\n",
       "      <td>154651</td>\n",
       "      <td>3.321135</td>\n",
       "      <td>-2.466898</td>\n",
       "      <td>0.767225</td>\n",
       "      <td>-1.452197</td>\n",
       "      <td>0.451429</td>\n",
       "      <td>28</td>\n",
       "      <td>101</td>\n",
       "    </tr>\n",
       "    <tr>\n",
       "      <th>4</th>\n",
       "      <td>A1ZZHQHKG6G2R2</td>\n",
       "      <td>B000089GN2</td>\n",
       "      <td>5.0</td>\n",
       "      <td>1179705600</td>\n",
       "      <td>NaN</td>\n",
       "      <td>Electronics</td>\n",
       "      <td>Computers &amp; Accessories</td>\n",
       "      <td>Cables &amp; Accessories</td>\n",
       "      <td>Headsets &amp; Microphones</td>\n",
       "      <td>NaN</td>\n",
       "      <td>...</td>\n",
       "      <td>51066</td>\n",
       "      <td>2170</td>\n",
       "      <td>51066</td>\n",
       "      <td>4.201225</td>\n",
       "      <td>-3.120638</td>\n",
       "      <td>0.970473</td>\n",
       "      <td>-1.051181</td>\n",
       "      <td>0.326732</td>\n",
       "      <td>28</td>\n",
       "      <td>101</td>\n",
       "    </tr>\n",
       "  </tbody>\n",
       "</table>\n",
       "<p>5 rows × 34 columns</p>\n",
       "</div>"
      ],
      "text/plain": [
       "       reviewerID        asin  overall  unixReviewTime brand category_0_0  \\\n",
       "0  A1JYQVP71WHBTL  B000089GN2      4.0      1124755200   NaN  Electronics   \n",
       "1  A3J9H77W4U792L  B000089GN2      5.0      1166918400   NaN  Electronics   \n",
       "2  A23IV3DK4EAXJH  B000089GN2      4.0      1124755200   NaN  Electronics   \n",
       "3   A93NUQAQIGU6G  B000089GN2      4.0      1104883200   NaN  Electronics   \n",
       "4  A1ZZHQHKG6G2R2  B000089GN2      5.0      1179705600   NaN  Electronics   \n",
       "\n",
       "              category_0_1          category_0_2            category_0_3  \\\n",
       "0  Computers & Accessories  Cables & Accessories  Headsets & Microphones   \n",
       "1  Computers & Accessories  Cables & Accessories  Headsets & Microphones   \n",
       "2  Computers & Accessories  Cables & Accessories  Headsets & Microphones   \n",
       "3  Computers & Accessories  Cables & Accessories  Headsets & Microphones   \n",
       "4  Computers & Accessories  Cables & Accessories  Headsets & Microphones   \n",
       "\n",
       "  category_1_0         ...         user_index item_index brand_index  \\\n",
       "0          NaN         ...              28303       2170       28303   \n",
       "1          NaN         ...             128916       2170      128916   \n",
       "2          NaN         ...              56077       2170       56077   \n",
       "3          NaN         ...             154651       2170      154651   \n",
       "4          NaN         ...              51066       2170       51066   \n",
       "\n",
       "   als_prediction  user_embed_0  user_embed_1  item_embed_0  item_embed_1  \\\n",
       "0        4.301226     -3.194782      0.994011     -0.545815      0.169756   \n",
       "1        4.073197     -3.025520      0.940960     -1.291462      0.401487   \n",
       "2        3.985848     -2.960602      0.920899     -1.077276      0.335293   \n",
       "3        3.321135     -2.466898      0.767225     -1.452197      0.451429   \n",
       "4        4.201225     -3.120638      0.970473     -1.051181      0.326732   \n",
       "\n",
       "   category_0_2_index  category_1_2_index  \n",
       "0                  28                 101  \n",
       "1                  28                 101  \n",
       "2                  28                 101  \n",
       "3                  28                 101  \n",
       "4                  28                 101  \n",
       "\n",
       "[5 rows x 34 columns]"
      ]
     },
     "execution_count": 1,
     "metadata": {},
     "output_type": "execute_result"
    }
   ],
   "source": [
    "import pandas as pd\n",
    "import tensorflow as tf\n",
    "from tensorflow.keras.layers import Input, Embedding, concatenate, Dense\n",
    "\n",
    "ratings = pd.read_csv(\"../../data/task_2.csv\")\n",
    "ratings.head()"
   ]
  },
  {
   "cell_type": "markdown",
   "metadata": {},
   "source": [
    "Let's pull in our data pipeline from the previous lab so we can compare the results of these algorithms directly."
   ]
  },
  {
   "cell_type": "code",
   "execution_count": 2,
   "metadata": {},
   "outputs": [],
   "source": [
    "def get_ds_from_df(df_tmp, cols, label, batch_size=1024):\n",
    "    dataset = (\n",
    "        tf.data.Dataset.from_tensor_slices(\n",
    "            (df_tmp[cols].to_dict(\"list\"), df_tmp[label].values)\n",
    "        )\n",
    "        .shuffle(len(df_tmp))\n",
    "        .repeat(1)\n",
    "        .prefetch(1)\n",
    "        .batch(batch_size)\n",
    "    )\n",
    "    return dataset"
   ]
  },
  {
   "cell_type": "markdown",
   "metadata": {},
   "source": [
    "Next, let's build our embeddings, just like the previous lab."
   ]
  },
  {
   "cell_type": "code",
   "execution_count": 3,
   "metadata": {},
   "outputs": [],
   "source": [
    "input_user_id = Input(name=\"user_index\", shape=(), dtype=\"int32\")\n",
    "input_product_id = Input(name=\"item_index\", shape=(), dtype=\"int32\")"
   ]
  },
  {
   "cell_type": "code",
   "execution_count": 4,
   "metadata": {},
   "outputs": [],
   "source": [
    "input_tensor = {\n",
    "    \"user_index\": input_user_id,\n",
    "    \"item_index\": input_product_id\n",
    "}"
   ]
  },
  {
   "cell_type": "code",
   "execution_count": 5,
   "metadata": {},
   "outputs": [],
   "source": [
    "emb_user_id = Embedding(int(ratings[\"user_index\"].max() + 1), 32)\n",
    "emb_product_id = Embedding(int(ratings[\"item_index\"].max() + 1), 32)"
   ]
  },
  {
   "cell_type": "code",
   "execution_count": 6,
   "metadata": {},
   "outputs": [],
   "source": [
    "out_emb_user_id = emb_user_id(input_user_id)\n",
    "out_emb_product_id = emb_product_id(input_product_id)"
   ]
  },
  {
   "cell_type": "markdown",
   "metadata": {},
   "source": [
    "Here, we combine the Embedding Multiplication part of our architecture with the Dense Neural Network. [tf.keras.layers.Multiply](https://www.tensorflow.org/api_docs/python/tf/keras/layers/multiply) will allow us to do our element-wise multiplication of our embeddings."
   ]
  },
  {
   "cell_type": "code",
   "execution_count": 7,
   "metadata": {},
   "outputs": [],
   "source": [
    "# Dense Neural Network\n",
    "x = tf.keras.layers.concatenate([out_emb_user_id, out_emb_product_id], axis=1)\n",
    "x = tf.keras.layers.Dense(128, activation=\"relu\", name=\"hidden_{}\".format(1))(x)\n",
    "x = tf.keras.layers.Dense(128, activation=\"relu\", name=\"hidden_{}\".format(2))(x)\n",
    "\n",
    "# Embedding Multiplication\n",
    "y = tf.keras.layers.Multiply()([out_emb_user_id, out_emb_product_id])\n",
    "\n",
    "# Combine the outputs from Dense and Multiplication\n",
    "x = tf.keras.layers.concatenate([x, y], axis=1)\n",
    "output_tensor = tf.keras.layers.Dense(1, activation=None, name=\"pred\")(x)"
   ]
  },
  {
   "cell_type": "markdown",
   "metadata": {},
   "source": [
    "Let's vizually inspect the model to verify it's been set up correctly. We can now see where the arrows cross, showing are embeddings being used for both the Deep part of the network and the multiplication part."
   ]
  },
  {
   "cell_type": "code",
   "execution_count": 8,
   "metadata": {},
   "outputs": [],
   "source": [
    "model = tf.keras.Model(input_tensor, output_tensor)"
   ]
  },
  {
   "cell_type": "code",
   "execution_count": 9,
   "metadata": {},
   "outputs": [
    {
     "data": {
      "image/png": "[encoded data removed]",
      "text/plain": [
       "<IPython.core.display.Image object>"
      ]
     },
     "execution_count": 9,
     "metadata": {},
     "output_type": "execute_result"
    }
   ],
   "source": [
    "tf.keras.utils.plot_model(model, show_shapes=True, rankdir='LR')"
   ]
  },
  {
   "cell_type": "markdown",
   "metadata": {},
   "source": [
    "Finally, let's compile and run the model to see how it compares to Wide and Deep."
   ]
  },
  {
   "cell_type": "code",
   "execution_count": 10,
   "metadata": {},
   "outputs": [],
   "source": [
    "metrics = [tf.keras.metrics.RootMeanSquaredError(name=\"rmse\")]\n",
    "model.compile(optimizer=\"adam\", loss=\"mse\", metrics=metrics)"
   ]
  },
  {
   "cell_type": "code",
   "execution_count": 11,
   "metadata": {},
   "outputs": [],
   "source": [
    "train_ds = ratings[~ratings[\"valid\"]]\n",
    "train_ds = get_ds_from_df(train_ds, [\"user_index\", \"item_index\"], \"overall\")"
   ]
  },
  {
   "cell_type": "code",
   "execution_count": 12,
   "metadata": {},
   "outputs": [],
   "source": [
    "valid_ds = ratings[ratings[\"valid\"]]\n",
    "valid_ds = get_ds_from_df(valid_ds, [\"user_index\", \"item_index\"], \"overall\")"
   ]
  },
  {
   "cell_type": "code",
   "execution_count": 13,
   "metadata": {},
   "outputs": [
    {
     "name": "stdout",
     "output_type": "stream",
     "text": [
      "Epoch 1/2\n",
      "1462/1462 [==============================] - 89s 61ms/step - loss: 1.5949 - rmse: 1.2629 - val_loss: 1.3078 - val_rmse: 1.1436\n",
      "Epoch 2/2\n",
      "1462/1462 [==============================] - 90s 61ms/step - loss: 1.0298 - rmse: 1.0148 - val_loss: 1.3291 - val_rmse: 1.1529\n"
     ]
    }
   ],
   "source": [
    "history = model.fit(train_ds, validation_data=valid_ds, epochs=2)"
   ]
  },
  {
   "cell_type": "markdown",
   "metadata": {},
   "source": [
    "The results here are a comparable to our both our ALS and Wide and Deep models.\n",
    "\n",
    "If we want to add contextual information, we can. Here's how we would add our ALS embeddings."
   ]
  },
  {
   "cell_type": "code",
   "execution_count": 14,
   "metadata": {},
   "outputs": [],
   "source": [
    "user_embed_0 = Input(name=\"user_embed_0\", shape=(1), dtype=\"float32\")\n",
    "user_embed_1 = Input(name=\"user_embed_1\", shape=(1), dtype=\"float32\")\n",
    "\n",
    "input_tensor = {\n",
    "    \"user_index\": input_user_id,\n",
    "    \"item_index\": input_product_id,\n",
    "    \"user_embed_0\": user_embed_0,\n",
    "    \"user_embed_1\": user_embed_1,\n",
    "}"
   ]
  },
  {
   "cell_type": "code",
   "execution_count": 16,
   "metadata": {},
   "outputs": [],
   "source": [
    "x = tf.keras.layers.concatenate(\n",
    "    [out_emb_user_id, out_emb_product_id, user_embed_0, user_embed_1], axis=1\n",
    ")\n",
    "x = tf.keras.layers.Dense(128, activation=\"relu\", name=\"hidden_{}\".format(1))(x)\n",
    "x = tf.keras.layers.Dense(128, activation=\"relu\", name=\"hidden_{}\".format(2))(x)\n",
    "\n",
    "# Embedding Multiplication\n",
    "y = tf.keras.layers.Multiply()([out_emb_user_id, out_emb_product_id])\n",
    "\n",
    "# Combine the outputs from Dense and Multiplication\n",
    "x = tf.keras.layers.concatenate([x, y], axis=1)\n",
    "output_tensor = tf.keras.layers.Dense(1, activation=None, name=\"pred\")(x)"
   ]
  },
  {
   "cell_type": "code",
   "execution_count": 17,
   "metadata": {},
   "outputs": [],
   "source": [
    "columns = [\"user_index\", \"item_index\", \"user_embed_0\", \"user_embed_1\"]\n",
    "train_ds = ratings[~ratings[\"valid\"]]\n",
    "train_ds = get_ds_from_df(train_ds, columns, \"overall\")\n",
    "valid_ds = ratings[ratings[\"valid\"]]\n",
    "valid_ds = get_ds_from_df(valid_ds, columns, \"overall\")"
   ]
  },
  {
   "cell_type": "code",
   "execution_count": 18,
   "metadata": {},
   "outputs": [
    {
     "name": "stdout",
     "output_type": "stream",
     "text": [
      "Epoch 1/2\n",
      "1462/1462 [==============================] - 92s 63ms/step - loss: 1.0114 - rmse: 1.0235 - val_loss: 1.4076 - val_rmse: 1.1864\n",
      "Epoch 2/2\n",
      "1462/1462 [==============================] - 98s 67ms/step - loss: 0.6798 - rmse: 0.8245 - val_loss: 1.4663 - val_rmse: 1.2109\n"
     ]
    }
   ],
   "source": [
    "model = tf.keras.Model(input_tensor, output_tensor)\n",
    "model.compile(optimizer=\"adam\", loss=\"mse\", metrics=metrics)\n",
    "history = model.fit(train_ds, validation_data=valid_ds, epochs=2)"
   ]
  },
  {
   "cell_type": "markdown",
   "metadata": {},
   "source": [
    "<div align=\"center\"><a href=\"https://www.nvidia.com/en-us/deep-learning-ai/education/\"><img src=\"../../images/DLI_Header.png\"></a></div>"
   ]
  }
 ],
 "metadata": {
  "kernelspec": {
   "display_name": "Python 3",
   "language": "python",
   "name": "python3"
  },
  "language_info": {
   "codemirror_mode": {
    "name": "ipython",
    "version": 3
   },
   "file_extension": ".py",
   "mimetype": "text/x-python",
   "name": "python",
   "nbconvert_exporter": "python",
   "pygments_lexer": "ipython3",
   "version": "3.6.9"
  }
 },
 "nbformat": 4,
 "nbformat_minor": 4
}
