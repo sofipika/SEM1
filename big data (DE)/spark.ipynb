{
 "cells": [
  {
   "cell_type": "code",
   "execution_count": 1,
   "metadata": {},
   "outputs": [],
   "source": [
    "import pyspark\n",
    "from pyspark.context import SparkContext, SparkConf\n",
    "from pyspark.sql.session import SparkSession\n"
   ]
  },
  {
   "cell_type": "code",
   "execution_count": 2,
   "metadata": {},
   "outputs": [],
   "source": [
    "import pyspark.sql.functions as f\n",
    "import pyspark.sql.functions"
   ]
  },
  {
   "cell_type": "code",
   "execution_count": 3,
   "metadata": {},
   "outputs": [],
   "source": [
    "spark = (\n",
    "    SparkSession\n",
    "    .builder\n",
    "    .appName('BIT_01')\n",
    "    .config('spark.ui.port', '9311')\n",
    "    .config('spark.executor.memoryOverhead', '1G')\n",
    "    .config('spark.shuffle.service.enabled', 'true')\n",
    "    .config('spark.dynamicAllocation.enabled', 'true')\n",
    "    .getOrCreate()\n",
    ")"
   ]
  },
  {
   "cell_type": "code",
   "execution_count": 4,
   "metadata": {},
   "outputs": [
    {
     "data": {
      "text/html": [
       "\n",
       "            <div>\n",
       "                <p><b>SparkSession - in-memory</b></p>\n",
       "                \n",
       "        <div>\n",
       "            <p><b>SparkContext</b></p>\n",
       "\n",
       "            <p><a href=\"http://192.168.10.6:9311\">Spark UI</a></p>\n",
       "\n",
       "            <dl>\n",
       "              <dt>Version</dt>\n",
       "                <dd><code>v3.2.0</code></dd>\n",
       "              <dt>Master</dt>\n",
       "                <dd><code>local[*]</code></dd>\n",
       "              <dt>AppName</dt>\n",
       "                <dd><code>BIT_01</code></dd>\n",
       "            </dl>\n",
       "        </div>\n",
       "        \n",
       "            </div>\n",
       "        "
      ],
      "text/plain": [
       "<pyspark.sql.session.SparkSession at 0x7f8edb886280>"
      ]
     },
     "execution_count": 4,
     "metadata": {},
     "output_type": "execute_result"
    }
   ],
   "source": [
    "spark"
   ]
  },
  {
   "cell_type": "code",
   "execution_count": 5,
   "metadata": {},
   "outputs": [],
   "source": [
    "df = spark.read.json('npl_news.json')"
   ]
  },
  {
   "cell_type": "code",
   "execution_count": 6,
   "metadata": {},
   "outputs": [
    {
     "name": "stdout",
     "output_type": "stream",
     "text": [
      "+---------------+-------------+----------+--------------------+--------------------+--------------------+\n",
      "|        authors|     category|      date|            headline|                link|   short_description|\n",
      "+---------------+-------------+----------+--------------------+--------------------+--------------------+\n",
      "|Melissa Jeltsen|        CRIME|2018-05-26|There Were 2 Mass...|https://www.huffi...|She left her husb...|\n",
      "|  Andy McDonald|ENTERTAINMENT|2018-05-26|Will Smith Joins ...|https://www.huffi...|Of course it has ...|\n",
      "|     Ron Dicker|ENTERTAINMENT|2018-05-26|Hugh Grant Marrie...|https://www.huffi...|The actor and his...|\n",
      "|     Ron Dicker|ENTERTAINMENT|2018-05-26|Jim Carrey Blasts...|https://www.huffi...|The actor gives D...|\n",
      "|     Ron Dicker|ENTERTAINMENT|2018-05-26|Julianna Margulie...|https://www.huffi...|The \"Dietland\" ac...|\n",
      "|     Ron Dicker|ENTERTAINMENT|2018-05-26|Morgan Freeman 'D...|https://www.huffi...|\"It is not right ...|\n",
      "|     Ron Dicker|ENTERTAINMENT|2018-05-26|Donald Trump Is L...|https://www.huffi...|It's catchy, all ...|\n",
      "|Todd Van Luling|ENTERTAINMENT|2018-05-26|What To Watch On ...|https://www.huffi...|There's a great m...|\n",
      "|  Andy McDonald|ENTERTAINMENT|2018-05-26|Mike Myers Reveal...|https://www.huffi...|Myer's kids may b...|\n",
      "|Todd Van Luling|ENTERTAINMENT|2018-05-26|What To Watch On ...|https://www.huffi...|You're getting a ...|\n",
      "+---------------+-------------+----------+--------------------+--------------------+--------------------+\n",
      "only showing top 10 rows\n",
      "\n"
     ]
    }
   ],
   "source": [
    "df.show(10)"
   ]
  },
  {
   "cell_type": "code",
   "execution_count": 7,
   "metadata": {},
   "outputs": [
    {
     "data": {
      "text/plain": [
       "124986"
      ]
     },
     "execution_count": 7,
     "metadata": {},
     "output_type": "execute_result"
    }
   ],
   "source": [
    "df = df.distinct().na.drop(\"all\")\n",
    "df.count()"
   ]
  },
  {
   "cell_type": "code",
   "execution_count": 8,
   "metadata": {},
   "outputs": [
    {
     "name": "stdout",
     "output_type": "stream",
     "text": [
      "+----------------------------------------------------------------------+\n",
      "|authors                                                               |\n",
      "+----------------------------------------------------------------------+\n",
      "|Zach Carter, Arthur Delaney, and Igor Bobic                           |\n",
      "|Maxwell Strachan                                                      |\n",
      "|Steve Holland, Reuters                                                |\n",
      "|Lisa Rapaport, Reuters                                                |\n",
      "|Andy Campbell, Nick Visser, and Antonia Blumberg                      |\n",
      "|Antonia Blumberg and Jesselyn Cook                                    |\n",
      "|Oliver Balch, On assignment for HuffPost                              |\n",
      "|Carol J. Clouse, On Assignment For HuffPost                           |\n",
      "|Steven Rosenbaum  , ContributorTechnologist / Business Leader / Author|\n",
      "|Chris Jordan, ContributorArtist, photographer and director.           |\n",
      "+----------------------------------------------------------------------+\n",
      "only showing top 10 rows\n",
      "\n"
     ]
    }
   ],
   "source": [
    "df.select('authors').distinct().show(10,False)"
   ]
  },
  {
   "cell_type": "markdown",
   "metadata": {},
   "source": [
    "### 1. Какие авторы и сколько раз встречались в общем пуле данных (1 автор - количество повторений)"
   ]
  },
  {
   "cell_type": "code",
   "execution_count": 9,
   "metadata": {},
   "outputs": [],
   "source": [
    "from pyspark.ml.feature import Tokenizer, RegexTokenizer\n",
    "from pyspark.ml.feature import StopWordsRemover"
   ]
  },
  {
   "cell_type": "code",
   "execution_count": 10,
   "metadata": {},
   "outputs": [
    {
     "name": "stdout",
     "output_type": "stream",
     "text": [
      "+-----------------------------------------------------+\n",
      "|authors_filtered                                     |\n",
      "+-----------------------------------------------------+\n",
      "|[ron dicker]                                         |\n",
      "|[matthew jacobs]                                     |\n",
      "|[lee moran]                                          |\n",
      "|[sebastian murdock,  carla herreria,  ,  doha madani]|\n",
      "|[akbar shahid ahmed]                                 |\n",
      "|[sara boboltz]                                       |\n",
      "|[carol kuruvilla]                                    |\n",
      "|[hayley miller]                                      |\n",
      "|[eliot nelson]                                       |\n",
      "|[ed mazza]                                           |\n",
      "+-----------------------------------------------------+\n",
      "only showing top 10 rows\n",
      "\n"
     ]
    }
   ],
   "source": [
    "regexTokenizer_ = RegexTokenizer(inputCol='authors', outputCol='authors_token', pattern=r\"[,]|and\")\n",
    "regexTokenized_ = regexTokenizer_.transform(df).select('authors_token')\n",
    "remover_ = StopWordsRemover(inputCol='authors_token', outputCol=\"authors_filtered\")\n",
    "remover__ = remover_.transform(regexTokenized_).select('authors_filtered')\n",
    "remover__.show(10,False)"
   ]
  },
  {
   "cell_type": "code",
   "execution_count": 11,
   "metadata": {},
   "outputs": [],
   "source": [
    "#### Нужна очистка от всяких лишних слов и ссылок, от профессии и тп... \n",
    "#### Пока остановилась на том, что разделила по регурке нескольких авторов"
   ]
  },
  {
   "cell_type": "code",
   "execution_count": 12,
   "metadata": {},
   "outputs": [
    {
     "name": "stdout",
     "output_type": "stream",
     "text": [
      "+-----------------+-----+\n",
      "|author_one       |count|\n",
      "+-----------------+-----+\n",
      "| reuters         |3381 |\n",
      "|lee moran        |2424 |\n",
      "|ron dicker       |1802 |\n",
      "|ed mazza         |1321 |\n",
      "|cole delbyck     |1141 |\n",
      "|y mcdonald       |1070 |\n",
      "|julia brucculieri|1059 |\n",
      "|carly ledbetter  |1024 |\n",
      "|curtis m. wong   |1005 |\n",
      "|mary papenfuss   |974  |\n",
      "+-----------------+-----+\n",
      "only showing top 10 rows\n",
      "\n"
     ]
    }
   ],
   "source": [
    "author_count = remover__ \\\n",
    "    .withColumn('author_one', f.explode(f.col('authors_filtered'))) \\\n",
    "    .filter(f.col('author_one') != \" \") \\\n",
    "    .groupBy('author_one') \\\n",
    "    .count().alias('count') \\\n",
    "    .orderBy(f.desc('count')) \n",
    "author_count = author_count.filter(~f.col('author_one').rlike('contributor*')) # исключение всяких contributor\n",
    "\n",
    "author_count.show(10,False)"
   ]
  },
  {
   "cell_type": "code",
   "execution_count": 13,
   "metadata": {},
   "outputs": [
    {
     "name": "stdout",
     "output_type": "stream",
     "text": [
      "+---------------+-------------+----------+--------------------+--------------------+--------------------+\n",
      "|        authors|     category|      date|            headline|                link|   short_description|\n",
      "+---------------+-------------+----------+--------------------+--------------------+--------------------+\n",
      "|Carly Ledbetter|ENTERTAINMENT|2018-01-29|Chrissy Teigen An...|https://www.huffi...|    Congratulations!|\n",
      "|Carly Ledbetter|ENTERTAINMENT|2018-01-15|CBS Asked Sharon ...|https://www.huffi...|\"Can you imagine ...|\n",
      "|Carly Ledbetter|ENTERTAINMENT|2018-04-19|Carrie Underwood ...|https://www.huffi...|She spoke publicl...|\n",
      "|Carly Ledbetter|ENTERTAINMENT|2018-01-26|Elton John Reveal...|https://www.huffi...|           Too cute!|\n",
      "|Carly Ledbetter|ENTERTAINMENT|2018-02-05|Justin Timberlake...|https://www.huffi...|He brought down t...|\n",
      "+---------------+-------------+----------+--------------------+--------------------+--------------------+\n",
      "only showing top 5 rows\n",
      "\n"
     ]
    }
   ],
   "source": [
    "df.filter(f.lower(df.authors) == 'carly ledbetter').show(5)"
   ]
  },
  {
   "cell_type": "markdown",
   "metadata": {},
   "source": [
    "### 2. Статистика по категориям (сколько новостей в каждой категории)"
   ]
  },
  {
   "cell_type": "code",
   "execution_count": 14,
   "metadata": {},
   "outputs": [
    {
     "name": "stdout",
     "output_type": "stream",
     "text": [
      "+--------------+-----+\n",
      "|category      |count|\n",
      "+--------------+-----+\n",
      "|POLITICS      |32738|\n",
      "|ENTERTAINMENT |14257|\n",
      "|HEALTHY LIVING|6694 |\n",
      "|QUEER VOICES  |4995 |\n",
      "|BUSINESS      |4254 |\n",
      "|SPORTS        |4167 |\n",
      "|COMEDY        |3971 |\n",
      "|PARENTS       |3955 |\n",
      "|BLACK VOICES  |3858 |\n",
      "|THE WORLDPOST |3664 |\n",
      "|WOMEN         |3489 |\n",
      "|CRIME         |2893 |\n",
      "|MEDIA         |2815 |\n",
      "|WEIRD NEWS    |2670 |\n",
      "|GREEN         |2622 |\n",
      "|IMPACT        |2602 |\n",
      "|WORLDPOST     |2579 |\n",
      "|RELIGION      |2556 |\n",
      "|STYLE         |2254 |\n",
      "|WORLD NEWS    |2177 |\n",
      "+--------------+-----+\n",
      "only showing top 20 rows\n",
      "\n"
     ]
    }
   ],
   "source": [
    "df_category = df.groupBy('category').count().orderBy(f.desc('count')) \n",
    "df_category.show(20,False)"
   ]
  },
  {
   "cell_type": "markdown",
   "metadata": {},
   "source": [
    "### 3. Показать наиболее часто встречающиеся слова в ['headline']"
   ]
  },
  {
   "cell_type": "code",
   "execution_count": 15,
   "metadata": {},
   "outputs": [],
   "source": [
    "df_headline = df.withColumn('headline', f.lower(f.col('headline')))"
   ]
  },
  {
   "cell_type": "code",
   "execution_count": 16,
   "metadata": {},
   "outputs": [
    {
     "name": "stdout",
     "output_type": "stream",
     "text": [
      "+--------------------+-------------+----------+--------------------+--------------------+--------------------+\n",
      "|             authors|     category|      date|            headline|                link|   short_description|\n",
      "+--------------------+-------------+----------+--------------------+--------------------+--------------------+\n",
      "|          Ron Dicker|       SPORTS|2018-05-23|nfl bans kneeling...|https://www.huffi...|Teams can set the...|\n",
      "|      Matthew Jacobs|ENTERTAINMENT|2018-04-28|all the movies th...|https://www.huffi...|Whether you're lo...|\n",
      "|           Lee Moran|   WEIRD NEWS|2018-04-27|pets are 'the 1 p...|https://www.huffi...|The 25 most profo...|\n",
      "|Sebastian Murdock...|        CRIME|2018-04-24|dallas officer sh...|https://www.huffi...|Officer Rogelio S...|\n",
      "|  Akbar Shahid Ahmed|     POLITICS|2018-04-18|top gop senator h...|https://www.huffi...|Senate Foreign Re...|\n",
      "|        Sara Boboltz| BLACK VOICES|2018-04-13|cal poly presiden...|https://www.huffi...|The student said ...|\n",
      "|     Carol Kuruvilla|   WORLD NEWS|2018-04-03|british muslims w...|https://www.huffi...|In the U.K. and U...|\n",
      "|       Hayley Miller|        CRIME|2018-03-20|officer charged w...|https://www.huffi...|Minneapolis polic...|\n",
      "|        Eliot Nelson|     POLITICS|2018-03-09|friday's morning ...|https://www.huffi...|The announcement ...|\n",
      "|            Ed Mazza|        MEDIA|2018-03-07|watch a trump bac...|https://www.huffi...|An awkward moment...|\n",
      "+--------------------+-------------+----------+--------------------+--------------------+--------------------+\n",
      "only showing top 10 rows\n",
      "\n"
     ]
    }
   ],
   "source": [
    "df_headline.show(10)"
   ]
  },
  {
   "cell_type": "code",
   "execution_count": 17,
   "metadata": {},
   "outputs": [],
   "source": [
    "from pyspark.ml.feature import Tokenizer, RegexTokenizer\n",
    "from pyspark.ml.feature import StopWordsRemover"
   ]
  },
  {
   "cell_type": "code",
   "execution_count": 18,
   "metadata": {},
   "outputs": [
    {
     "name": "stdout",
     "output_type": "stream",
     "text": [
      "+--------------------------------------------------------------------------------+\n",
      "|headline_filtered                                                               |\n",
      "+--------------------------------------------------------------------------------+\n",
      "|[nfl, bans, kneeling, national, anthem]                                         |\n",
      "|[movies, cool, summer]                                                          |\n",
      "|[pets, 'the, 1, percent', animals]                                              |\n",
      "|[dallas, officer, shot, home, depot, dies., 2, others, still, hospital.]        |\n",
      "|[top, gop, senator, hopes, macron, merkel, convince, trump, save, iran, deal]   |\n",
      "|[cal, poly, president, says, frat, member, blackface, likely, expelled]         |\n",
      "|[british, muslims, vigilant, defiant, 'punish, muslim', day]                    |\n",
      "|[officer, charged, murder, shooting, death, justine, damond]                    |\n",
      "|[friday's, morning, email:, trump, kim, jong, un, meet]                         |\n",
      "|[watch, trump, backer’s, painfully, dumb, joke, startle, everyone, silence, cnn]|\n",
      "+--------------------------------------------------------------------------------+\n",
      "only showing top 10 rows\n",
      "\n"
     ]
    }
   ],
   "source": [
    "regexTokenizer = RegexTokenizer(inputCol='headline', outputCol='headline_token', pattern=r\"[,\\s]\")\n",
    "regexTokenized = regexTokenizer.transform(df_headline).select('headline_token')\n",
    "\n",
    "remover = StopWordsRemover(inputCol='headline_token', outputCol=\"headline_filtered\")\n",
    "remover_ = remover.transform(regexTokenized).select('headline_filtered')\n",
    "remover_.show(10,False)"
   ]
  },
  {
   "cell_type": "code",
   "execution_count": 19,
   "metadata": {},
   "outputs": [
    {
     "name": "stdout",
     "output_type": "stream",
     "text": [
      "+-------+-----+\n",
      "|   word|count|\n",
      "+-------+-----+\n",
      "|  trump| 9061|\n",
      "|    new| 5481|\n",
      "| donald| 4551|\n",
      "|   says| 3132|\n",
      "|trump's| 2565|\n",
      "|   u.s.| 2192|\n",
      "|  women| 2097|\n",
      "| people| 1974|\n",
      "|  first| 1866|\n",
      "|    one| 1832|\n",
      "+-------+-----+\n",
      "only showing top 10 rows\n",
      "\n"
     ]
    }
   ],
   "source": [
    "word_count = remover_ \\\n",
    "    .withColumn('word', f.explode(f.col('headline_filtered'))) \\\n",
    "    .groupBy('word') \\\n",
    "    .count().alias('count') \\\n",
    "    .orderBy(f.desc('count')) \n",
    "    \n",
    "word_count.show(10)"
   ]
  },
  {
   "cell_type": "markdown",
   "metadata": {},
   "source": [
    "### 4. Универсальная функция для построения гистограмм для наглядных ответов на вопросы выше"
   ]
  },
  {
   "cell_type": "code",
   "execution_count": 20,
   "metadata": {},
   "outputs": [],
   "source": [
    "import matplotlib.pyplot as plt"
   ]
  },
  {
   "cell_type": "code",
   "execution_count": 21,
   "metadata": {},
   "outputs": [],
   "source": [
    "def hist(df, max_count):\n",
    "    plt.figure(figsize=(20, 16))\n",
    "    plt.rcParams.update({'font.size': 10}) \n",
    "    df_hist = df.toPandas()\n",
    "    df_hist = df_hist.head(max_count)\n",
    "    plt.bar(df_hist[df_hist.columns[0]], df_hist[df_hist.columns[1]])\n",
    "    plt.xlabel(\"Данные\", fontsize=18)\n",
    "    plt.xticks(rotation=45)\n",
    "    plt.ylabel(\"Количество\", fontsize=18)\n",
    "    plt.show()"
   ]
  },
  {
   "cell_type": "code",
   "execution_count": 22,
   "metadata": {},
   "outputs": [
    {
     "data": {
      "image/png": "[encoded data removed]",
      "text/plain": [
       "<Figure size 1440x1152 with 1 Axes>"
      ]
     },
     "metadata": {
      "needs_background": "light"
     },
     "output_type": "display_data"
    }
   ],
   "source": [
    "hist(author_count, 10)"
   ]
  },
  {
   "cell_type": "code",
   "execution_count": 23,
   "metadata": {},
   "outputs": [
    {
     "data": {
      "image/png": "[encoded data removed]",
      "text/plain": [
       "<Figure size 1440x1152 with 1 Axes>"
      ]
     },
     "metadata": {
      "needs_background": "light"
     },
     "output_type": "display_data"
    }
   ],
   "source": [
    "hist(df_category, 50)"
   ]
  },
  {
   "cell_type": "code",
   "execution_count": 24,
   "metadata": {},
   "outputs": [
    {
     "data": {
      "image/png": "[encoded data removed]",
      "text/plain": [
       "<Figure size 1440x1152 with 1 Axes>"
      ]
     },
     "metadata": {
      "needs_background": "light"
     },
     "output_type": "display_data"
    }
   ],
   "source": [
    "hist(word_count, 20)"
   ]
  },
  {
   "cell_type": "markdown",
   "metadata": {},
   "source": [
    "### 5. В какой год было больше новостей про Россию?"
   ]
  },
  {
   "cell_type": "code",
   "execution_count": 25,
   "metadata": {},
   "outputs": [],
   "source": [
    "df_russia = df.withColumn('headline', f.lower(f.col('headline')))\n",
    "df_russia = df_russia.withColumn('short_description', f.lower(f.col('short_description')))"
   ]
  },
  {
   "cell_type": "code",
   "execution_count": 26,
   "metadata": {},
   "outputs": [],
   "source": [
    "df_russia_cnt = df_russia.filter(f.col('headline').like('%russia%') | \\\n",
    "                 f.col('headline').like('%putin%') | \\\n",
    "                 f.col('headline').like('%moscow%') | \\\n",
    "                 f.col('headline').like('%petersburg%') | \\\n",
    "                 f.col('short_description').like('%russia%') | \\\n",
    "                 f.col('short_description').like('%putin%') | \\\n",
    "                 f.col('short_description').like('%moscow%') | \\\n",
    "                 f.col('short_description').like('%petersburg%') | \\\n",
    "                 f.col('link').like('%russia%') | \\\n",
    "                 f.col('link').like('%putin%') | \\\n",
    "                 f.col('link').like('%moscow%') | \\\n",
    "                 f.col('link').like('%petersburg%'))"
   ]
  },
  {
   "cell_type": "code",
   "execution_count": 27,
   "metadata": {},
   "outputs": [
    {
     "name": "stdout",
     "output_type": "stream",
     "text": [
      "+--------------+--------+----------+--------------------+--------------------+--------------------+\n",
      "|       authors|category|      date|            headline|                link|   short_description|\n",
      "+--------------+--------+----------+--------------------+--------------------+--------------------+\n",
      "|Ryan J. Reilly|POLITICS|2017-12-07|paul manafort's l...|https://www.huffi...|a lawyer for the ...|\n",
      "+--------------+--------+----------+--------------------+--------------------+--------------------+\n",
      "only showing top 1 row\n",
      "\n"
     ]
    }
   ],
   "source": [
    "df_russia_cnt.show(1)"
   ]
  },
  {
   "cell_type": "code",
   "execution_count": 28,
   "metadata": {},
   "outputs": [
    {
     "name": "stdout",
     "output_type": "stream",
     "text": [
      "+--------------------+----------+----------+--------------------+--------------------+--------------------+----+\n",
      "|             authors|  category|      date|            headline|                link|   short_description|year|\n",
      "+--------------------+----------+----------+--------------------+--------------------+--------------------+----+\n",
      "|      Ryan J. Reilly|  POLITICS|2017-12-07|paul manafort's l...|https://www.huffi...|a lawyer for the ...|2017|\n",
      "|                    |    SPORTS|2018-02-25|russian hockey pl...|https://www.huffi...|the men's team sa...|2018|\n",
      "|           S.V. Date|  POLITICS|2017-12-15|‘i love wikileaks...|https://www.huffi...|trump praised the...|2017|\n",
      "|            Ed Mazza|  POLITICS|2018-04-12|here's a poll tru...|https://www.huffi...|...but he did bea...|2018|\n",
      "|      Mary Papenfuss|     MEDIA|2017-12-02|abc corrects expl...|https://www.huffi...|flynn was asked t...|2017|\n",
      "|          Willa Frej|  POLITICS|2018-05-21|hillary clinton t...|https://www.huffi...|\"if you can't bea...|2018|\n",
      "|      Jenna Amatulli|  POLITICS|2018-05-10|mike pence to rob...|https://www.huffi...|\"why does mike pe...|2018|\n",
      "|Mark Hosenball an...|WORLD NEWS|2018-04-20|democrats sue rus...|https://www.huffi...|the party alleged...|2018|\n",
      "|          Ron Dicker|    COMEDY|2018-01-31|seth meyers imagi...|https://www.huffi...|\"are you trying t...|2018|\n",
      "|Guy Faulconbridge...|WORLD NEWS|2017-12-29|report: russian t...|https://www.huffi...|the sales of oil ...|2017|\n",
      "+--------------------+----------+----------+--------------------+--------------------+--------------------+----+\n",
      "only showing top 10 rows\n",
      "\n"
     ]
    }
   ],
   "source": [
    "df_russia_cnt = df_russia_cnt.withColumn('year', df_russia_cnt['date'].substr(1,4))\n",
    "df_russia_cnt.show(10)"
   ]
  },
  {
   "cell_type": "code",
   "execution_count": 29,
   "metadata": {},
   "outputs": [
    {
     "name": "stdout",
     "output_type": "stream",
     "text": [
      "+----+-----+\n",
      "|year|count|\n",
      "+----+-----+\n",
      "|2017|  855|\n",
      "|2016|  402|\n",
      "|2018|  241|\n",
      "|2014|  169|\n",
      "|2015|  161|\n",
      "+----+-----+\n",
      "\n"
     ]
    }
   ],
   "source": [
    "df_russia_cnt \\\n",
    "    .groupBy(df_russia_cnt.year) \\\n",
    "    .count() \\\n",
    "    .orderBy(f.desc('count')) \\\n",
    "    .show()"
   ]
  },
  {
   "cell_type": "markdown",
   "metadata": {},
   "source": [
    "### Вывод: больше всего новостей про Россию было в 2017 году. "
   ]
  },
  {
   "cell_type": "code",
   "execution_count": null,
   "metadata": {},
   "outputs": [],
   "source": []
  }
 ],
 "metadata": {
  "kernelspec": {
   "display_name": "Python 3",
   "language": "python",
   "name": "python3"
  },
  "language_info": {
   "codemirror_mode": {
    "name": "ipython",
    "version": 3
   },
   "file_extension": ".py",
   "mimetype": "text/x-python",
   "name": "python",
   "nbconvert_exporter": "python",
   "pygments_lexer": "ipython3",
   "version": "3.8.5"
  }
 },
 "nbformat": 4,
 "nbformat_minor": 5
}
